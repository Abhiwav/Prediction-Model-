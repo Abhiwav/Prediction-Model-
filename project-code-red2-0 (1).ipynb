{
 "cells": [
  {
   "cell_type": "code",
   "execution_count": 1,
   "id": "119d5001",
   "metadata": {
    "_cell_guid": "b1076dfc-b9ad-4769-8c92-a6c4dae69d19",
    "_uuid": "8f2839f25d086af736a60e9eeb907d3b93b6e0e5",
    "execution": {
     "iopub.execute_input": "2025-03-05T10:12:10.657746Z",
     "iopub.status.busy": "2025-03-05T10:12:10.657283Z",
     "iopub.status.idle": "2025-03-05T10:12:11.571530Z",
     "shell.execute_reply": "2025-03-05T10:12:11.570369Z"
    },
    "papermill": {
     "duration": 0.926,
     "end_time": "2025-03-05T10:12:11.573357",
     "exception": false,
     "start_time": "2025-03-05T10:12:10.647357",
     "status": "completed"
    },
    "tags": []
   },
   "outputs": [
    {
     "name": "stdout",
     "output_type": "stream",
     "text": [
      "/kaggle/input/lending-club-loans-rejects-data/appl_accepted_20072019Q3.csv\n",
      "/kaggle/input/lending-club-loans-rejects-data/appl_rejected_20072018Q4.csv\n"
     ]
    }
   ],
   "source": [
    "# This Python 3 environment comes with many helpful analytics libraries installed\n",
    "# It is defined by the kaggle/python Docker image: https://github.com/kaggle/docker-python\n",
    "# For example, here's several helpful packages to load\n",
    "\n",
    "import numpy as np # linear algebra\n",
    "import pandas as pd # data processing, CSV file I/O (e.g. pd.read_csv)\n",
    "\n",
    "# Input data files are available in the read-only \"../input/\" directory\n",
    "# For example, running this (by clicking run or pressing Shift+Enter) will list all files under the input directory\n",
    "\n",
    "import os\n",
    "for dirname, _, filenames in os.walk('/kaggle/input'):\n",
    "    for filename in filenames:\n",
    "        print(os.path.join(dirname, filename))\n",
    "\n",
    "# You can write up to 20GB to the current directory (/kaggle/working/) that gets preserved as output when you create a version using \"Save & Run All\" \n",
    "# You can also write temporary files to /kaggle/temp/, but they won't be saved outside of the current session"
   ]
  },
  {
   "cell_type": "code",
   "execution_count": 2,
   "id": "c7a76cfa",
   "metadata": {
    "execution": {
     "iopub.execute_input": "2025-03-05T10:12:11.592349Z",
     "iopub.status.busy": "2025-03-05T10:12:11.591824Z",
     "iopub.status.idle": "2025-03-05T10:14:25.436015Z",
     "shell.execute_reply": "2025-03-05T10:14:25.434187Z"
    },
    "papermill": {
     "duration": 133.858171,
     "end_time": "2025-03-05T10:14:25.440619",
     "exception": false,
     "start_time": "2025-03-05T10:12:11.582448",
     "status": "completed"
    },
    "tags": []
   },
   "outputs": [
    {
     "name": "stderr",
     "output_type": "stream",
     "text": [
      "<ipython-input-2-d3529b943a51>:1: DtypeWarning: Columns (0,6,19,35,49,59,118,129,130,131,134,135,136,139,144,145,146) have mixed types. Specify dtype option on import or set low_memory=False.\n",
      "  l_acpt = pd.read_csv('/kaggle/input/lending-club-loans-rejects-data/appl_accepted_20072019Q3.csv')\n"
     ]
    }
   ],
   "source": [
    "l_acpt = pd.read_csv('/kaggle/input/lending-club-loans-rejects-data/appl_accepted_20072019Q3.csv')\n",
    "l_rjct = pd.read_csv('/kaggle/input/lending-club-loans-rejects-data/appl_rejected_20072018Q4.csv')\n",
    "\n"
   ]
  },
  {
   "cell_type": "code",
   "execution_count": 3,
   "id": "d0003ef0",
   "metadata": {
    "execution": {
     "iopub.execute_input": "2025-03-05T10:14:25.464593Z",
     "iopub.status.busy": "2025-03-05T10:14:25.464186Z",
     "iopub.status.idle": "2025-03-05T10:14:25.509636Z",
     "shell.execute_reply": "2025-03-05T10:14:25.508579Z"
    },
    "papermill": {
     "duration": 0.058496,
     "end_time": "2025-03-05T10:14:25.512027",
     "exception": false,
     "start_time": "2025-03-05T10:14:25.453531",
     "status": "completed"
    },
    "tags": []
   },
   "outputs": [
    {
     "name": "stdout",
     "output_type": "stream",
     "text": [
      "<class 'pandas.core.frame.DataFrame'>\n",
      "RangeIndex: 2650550 entries, 0 to 2650549\n",
      "Columns: 150 entries, id to settlement_term\n",
      "dtypes: float64(111), object(39)\n",
      "memory usage: 3.0+ GB\n"
     ]
    }
   ],
   "source": [
    "l_acpt.info()\n",
    "\n",
    "\n",
    "\n"
   ]
  },
  {
   "cell_type": "code",
   "execution_count": 4,
   "id": "eee2ac22",
   "metadata": {
    "execution": {
     "iopub.execute_input": "2025-03-05T10:14:25.530529Z",
     "iopub.status.busy": "2025-03-05T10:14:25.530200Z",
     "iopub.status.idle": "2025-03-05T10:14:25.579809Z",
     "shell.execute_reply": "2025-03-05T10:14:25.578526Z"
    },
    "papermill": {
     "duration": 0.061065,
     "end_time": "2025-03-05T10:14:25.581998",
     "exception": false,
     "start_time": "2025-03-05T10:14:25.520933",
     "status": "completed"
    },
    "tags": []
   },
   "outputs": [
    {
     "name": "stderr",
     "output_type": "stream",
     "text": [
      "/usr/local/lib/python3.10/dist-packages/pandas/io/formats/format.py:1458: RuntimeWarning: invalid value encountered in greater\n",
      "  has_large_values = (abs_vals > 1e6).any()\n",
      "/usr/local/lib/python3.10/dist-packages/pandas/io/formats/format.py:1459: RuntimeWarning: invalid value encountered in less\n",
      "  has_small_values = ((abs_vals < 10 ** (-self.digits)) & (abs_vals > 0)).any()\n",
      "/usr/local/lib/python3.10/dist-packages/pandas/io/formats/format.py:1459: RuntimeWarning: invalid value encountered in greater\n",
      "  has_small_values = ((abs_vals < 10 ** (-self.digits)) & (abs_vals > 0)).any()\n",
      "/usr/local/lib/python3.10/dist-packages/pandas/io/formats/format.py:1458: RuntimeWarning: invalid value encountered in greater\n",
      "  has_large_values = (abs_vals > 1e6).any()\n",
      "/usr/local/lib/python3.10/dist-packages/pandas/io/formats/format.py:1459: RuntimeWarning: invalid value encountered in less\n",
      "  has_small_values = ((abs_vals < 10 ** (-self.digits)) & (abs_vals > 0)).any()\n",
      "/usr/local/lib/python3.10/dist-packages/pandas/io/formats/format.py:1459: RuntimeWarning: invalid value encountered in greater\n",
      "  has_small_values = ((abs_vals < 10 ** (-self.digits)) & (abs_vals > 0)).any()\n"
     ]
    },
    {
     "data": {
      "text/html": [
       "<div>\n",
       "<style scoped>\n",
       "    .dataframe tbody tr th:only-of-type {\n",
       "        vertical-align: middle;\n",
       "    }\n",
       "\n",
       "    .dataframe tbody tr th {\n",
       "        vertical-align: top;\n",
       "    }\n",
       "\n",
       "    .dataframe thead th {\n",
       "        text-align: right;\n",
       "    }\n",
       "</style>\n",
       "<table border=\"1\" class=\"dataframe\">\n",
       "  <thead>\n",
       "    <tr style=\"text-align: right;\">\n",
       "      <th></th>\n",
       "      <th>id</th>\n",
       "      <th>member_id</th>\n",
       "      <th>loan_amnt</th>\n",
       "      <th>funded_amnt</th>\n",
       "      <th>funded_amnt_inv</th>\n",
       "      <th>term</th>\n",
       "      <th>int_rate</th>\n",
       "      <th>installment</th>\n",
       "      <th>grade</th>\n",
       "      <th>sub_grade</th>\n",
       "      <th>...</th>\n",
       "      <th>orig_projected_additional_accrued_interest</th>\n",
       "      <th>hardship_payoff_balance_amount</th>\n",
       "      <th>hardship_last_payment_amount</th>\n",
       "      <th>debt_settlement_flag</th>\n",
       "      <th>debt_settlement_flag_date</th>\n",
       "      <th>settlement_status</th>\n",
       "      <th>settlement_date</th>\n",
       "      <th>settlement_amount</th>\n",
       "      <th>settlement_percentage</th>\n",
       "      <th>settlement_term</th>\n",
       "    </tr>\n",
       "  </thead>\n",
       "  <tbody>\n",
       "    <tr>\n",
       "      <th>0</th>\n",
       "      <td>68407277</td>\n",
       "      <td>NaN</td>\n",
       "      <td>3600.0</td>\n",
       "      <td>3600.0</td>\n",
       "      <td>3600.0</td>\n",
       "      <td>36 months</td>\n",
       "      <td>13.99</td>\n",
       "      <td>123.03</td>\n",
       "      <td>C</td>\n",
       "      <td>C4</td>\n",
       "      <td>...</td>\n",
       "      <td>NaN</td>\n",
       "      <td>NaN</td>\n",
       "      <td>NaN</td>\n",
       "      <td>N</td>\n",
       "      <td>NaN</td>\n",
       "      <td>NaN</td>\n",
       "      <td>NaN</td>\n",
       "      <td>NaN</td>\n",
       "      <td>NaN</td>\n",
       "      <td>NaN</td>\n",
       "    </tr>\n",
       "    <tr>\n",
       "      <th>1</th>\n",
       "      <td>68355089</td>\n",
       "      <td>NaN</td>\n",
       "      <td>24700.0</td>\n",
       "      <td>24700.0</td>\n",
       "      <td>24700.0</td>\n",
       "      <td>36 months</td>\n",
       "      <td>11.99</td>\n",
       "      <td>820.28</td>\n",
       "      <td>C</td>\n",
       "      <td>C1</td>\n",
       "      <td>...</td>\n",
       "      <td>NaN</td>\n",
       "      <td>NaN</td>\n",
       "      <td>NaN</td>\n",
       "      <td>N</td>\n",
       "      <td>NaN</td>\n",
       "      <td>NaN</td>\n",
       "      <td>NaN</td>\n",
       "      <td>NaN</td>\n",
       "      <td>NaN</td>\n",
       "      <td>NaN</td>\n",
       "    </tr>\n",
       "    <tr>\n",
       "      <th>2</th>\n",
       "      <td>68341763</td>\n",
       "      <td>NaN</td>\n",
       "      <td>20000.0</td>\n",
       "      <td>20000.0</td>\n",
       "      <td>20000.0</td>\n",
       "      <td>60 months</td>\n",
       "      <td>10.78</td>\n",
       "      <td>432.66</td>\n",
       "      <td>B</td>\n",
       "      <td>B4</td>\n",
       "      <td>...</td>\n",
       "      <td>NaN</td>\n",
       "      <td>NaN</td>\n",
       "      <td>NaN</td>\n",
       "      <td>N</td>\n",
       "      <td>NaN</td>\n",
       "      <td>NaN</td>\n",
       "      <td>NaN</td>\n",
       "      <td>NaN</td>\n",
       "      <td>NaN</td>\n",
       "      <td>NaN</td>\n",
       "    </tr>\n",
       "    <tr>\n",
       "      <th>3</th>\n",
       "      <td>66310712</td>\n",
       "      <td>NaN</td>\n",
       "      <td>35000.0</td>\n",
       "      <td>35000.0</td>\n",
       "      <td>35000.0</td>\n",
       "      <td>60 months</td>\n",
       "      <td>14.85</td>\n",
       "      <td>829.90</td>\n",
       "      <td>C</td>\n",
       "      <td>C5</td>\n",
       "      <td>...</td>\n",
       "      <td>NaN</td>\n",
       "      <td>NaN</td>\n",
       "      <td>NaN</td>\n",
       "      <td>N</td>\n",
       "      <td>NaN</td>\n",
       "      <td>NaN</td>\n",
       "      <td>NaN</td>\n",
       "      <td>NaN</td>\n",
       "      <td>NaN</td>\n",
       "      <td>NaN</td>\n",
       "    </tr>\n",
       "    <tr>\n",
       "      <th>4</th>\n",
       "      <td>68476807</td>\n",
       "      <td>NaN</td>\n",
       "      <td>10400.0</td>\n",
       "      <td>10400.0</td>\n",
       "      <td>10400.0</td>\n",
       "      <td>60 months</td>\n",
       "      <td>22.45</td>\n",
       "      <td>289.91</td>\n",
       "      <td>F</td>\n",
       "      <td>F1</td>\n",
       "      <td>...</td>\n",
       "      <td>NaN</td>\n",
       "      <td>NaN</td>\n",
       "      <td>NaN</td>\n",
       "      <td>N</td>\n",
       "      <td>NaN</td>\n",
       "      <td>NaN</td>\n",
       "      <td>NaN</td>\n",
       "      <td>NaN</td>\n",
       "      <td>NaN</td>\n",
       "      <td>NaN</td>\n",
       "    </tr>\n",
       "  </tbody>\n",
       "</table>\n",
       "<p>5 rows × 150 columns</p>\n",
       "</div>"
      ],
      "text/plain": [
       "         id  member_id  loan_amnt  funded_amnt  funded_amnt_inv        term  \\\n",
       "0  68407277        NaN     3600.0       3600.0           3600.0   36 months   \n",
       "1  68355089        NaN    24700.0      24700.0          24700.0   36 months   \n",
       "2  68341763        NaN    20000.0      20000.0          20000.0   60 months   \n",
       "3  66310712        NaN    35000.0      35000.0          35000.0   60 months   \n",
       "4  68476807        NaN    10400.0      10400.0          10400.0   60 months   \n",
       "\n",
       "  int_rate  installment grade sub_grade  ...  \\\n",
       "0    13.99       123.03     C        C4  ...   \n",
       "1    11.99       820.28     C        C1  ...   \n",
       "2    10.78       432.66     B        B4  ...   \n",
       "3    14.85       829.90     C        C5  ...   \n",
       "4    22.45       289.91     F        F1  ...   \n",
       "\n",
       "  orig_projected_additional_accrued_interest hardship_payoff_balance_amount  \\\n",
       "0                                        NaN                            NaN   \n",
       "1                                        NaN                            NaN   \n",
       "2                                        NaN                            NaN   \n",
       "3                                        NaN                            NaN   \n",
       "4                                        NaN                            NaN   \n",
       "\n",
       "  hardship_last_payment_amount  debt_settlement_flag  \\\n",
       "0                          NaN                     N   \n",
       "1                          NaN                     N   \n",
       "2                          NaN                     N   \n",
       "3                          NaN                     N   \n",
       "4                          NaN                     N   \n",
       "\n",
       "  debt_settlement_flag_date settlement_status settlement_date  \\\n",
       "0                       NaN               NaN             NaN   \n",
       "1                       NaN               NaN             NaN   \n",
       "2                       NaN               NaN             NaN   \n",
       "3                       NaN               NaN             NaN   \n",
       "4                       NaN               NaN             NaN   \n",
       "\n",
       "  settlement_amount settlement_percentage settlement_term  \n",
       "0               NaN                   NaN             NaN  \n",
       "1               NaN                   NaN             NaN  \n",
       "2               NaN                   NaN             NaN  \n",
       "3               NaN                   NaN             NaN  \n",
       "4               NaN                   NaN             NaN  \n",
       "\n",
       "[5 rows x 150 columns]"
      ]
     },
     "execution_count": 4,
     "metadata": {},
     "output_type": "execute_result"
    }
   ],
   "source": [
    "l_acpt.head(5)"
   ]
  },
  {
   "cell_type": "code",
   "execution_count": 5,
   "id": "8a3e7e77",
   "metadata": {
    "execution": {
     "iopub.execute_input": "2025-03-05T10:14:25.600791Z",
     "iopub.status.busy": "2025-03-05T10:14:25.600399Z",
     "iopub.status.idle": "2025-03-05T10:14:25.605663Z",
     "shell.execute_reply": "2025-03-05T10:14:25.604571Z"
    },
    "papermill": {
     "duration": 0.016676,
     "end_time": "2025-03-05T10:14:25.607533",
     "exception": false,
     "start_time": "2025-03-05T10:14:25.590857",
     "status": "completed"
    },
    "tags": []
   },
   "outputs": [
    {
     "name": "stdout",
     "output_type": "stream",
     "text": [
      "['id', 'member_id', 'loan_amnt', 'funded_amnt', 'funded_amnt_inv', 'term', 'int_rate', 'installment', 'grade', 'sub_grade', 'emp_title', 'emp_length', 'home_ownership', 'annual_inc', 'verification_status', 'issue_d', 'loan_status', 'pymnt_plan', 'url', 'desc', 'purpose', 'title', 'zip_code', 'addr_state', 'dti', 'delinq_2yrs', 'earliest_cr_line', 'fico_range_low', 'fico_range_high', 'inq_last_6mths', 'mths_since_last_delinq', 'mths_since_last_record', 'open_acc', 'pub_rec', 'revol_bal', 'revol_util', 'total_acc', 'initial_list_status', 'out_prncp', 'out_prncp_inv', 'total_pymnt', 'total_pymnt_inv', 'total_rec_prncp', 'total_rec_int', 'total_rec_late_fee', 'recoveries', 'collection_recovery_fee', 'last_pymnt_d', 'last_pymnt_amnt', 'next_pymnt_d', 'last_credit_pull_d', 'last_fico_range_high', 'last_fico_range_low', 'collections_12_mths_ex_med', 'mths_since_last_major_derog', 'policy_code', 'application_type', 'annual_inc_joint', 'dti_joint', 'verification_status_joint', 'acc_now_delinq', 'tot_coll_amt', 'tot_cur_bal', 'open_acc_6m', 'open_act_il', 'open_il_12m', 'open_il_24m', 'mths_since_rcnt_il', 'total_bal_il', 'il_util', 'open_rv_12m', 'open_rv_24m', 'max_bal_bc', 'all_util', 'total_rev_hi_lim', 'inq_fi', 'total_cu_tl', 'inq_last_12m', 'acc_open_past_24mths', 'avg_cur_bal', 'bc_open_to_buy', 'bc_util', 'chargeoff_within_12_mths', 'delinq_amnt', 'mo_sin_old_il_acct', 'mo_sin_old_rev_tl_op', 'mo_sin_rcnt_rev_tl_op', 'mo_sin_rcnt_tl', 'mort_acc', 'mths_since_recent_bc', 'mths_since_recent_bc_dlq', 'mths_since_recent_inq', 'mths_since_recent_revol_delinq', 'num_accts_ever_120_pd', 'num_actv_bc_tl', 'num_actv_rev_tl', 'num_bc_sats', 'num_bc_tl', 'num_il_tl', 'num_op_rev_tl', 'num_rev_accts', 'num_rev_tl_bal_gt_0', 'num_sats', 'num_tl_120dpd_2m', 'num_tl_30dpd', 'num_tl_90g_dpd_24m', 'num_tl_op_past_12m', 'pct_tl_nvr_dlq', 'percent_bc_gt_75', 'pub_rec_bankruptcies', 'tax_liens', 'tot_hi_cred_lim', 'total_bal_ex_mort', 'total_bc_limit', 'total_il_high_credit_limit', 'revol_bal_joint', 'sec_app_fico_range_low', 'sec_app_fico_range_high', 'sec_app_earliest_cr_line', 'sec_app_inq_last_6mths', 'sec_app_mort_acc', 'sec_app_open_acc', 'sec_app_revol_util', 'sec_app_open_act_il', 'sec_app_num_rev_accts', 'sec_app_chargeoff_within_12_mths', 'sec_app_collections_12_mths_ex_med', 'sec_app_mths_since_last_major_derog', 'hardship_flag', 'hardship_type', 'hardship_reason', 'hardship_status', 'deferral_term', 'hardship_amount', 'hardship_start_date', 'hardship_end_date', 'payment_plan_start_date', 'hardship_length', 'hardship_dpd', 'hardship_loan_status', 'orig_projected_additional_accrued_interest', 'hardship_payoff_balance_amount', 'hardship_last_payment_amount', 'debt_settlement_flag', 'debt_settlement_flag_date', 'settlement_status', 'settlement_date', 'settlement_amount', 'settlement_percentage', 'settlement_term']\n"
     ]
    }
   ],
   "source": [
    "print(l_acpt.columns.tolist())"
   ]
  },
  {
   "cell_type": "code",
   "execution_count": 6,
   "id": "e61247c1",
   "metadata": {
    "execution": {
     "iopub.execute_input": "2025-03-05T10:14:25.628203Z",
     "iopub.status.busy": "2025-03-05T10:14:25.627818Z",
     "iopub.status.idle": "2025-03-05T10:14:25.736852Z",
     "shell.execute_reply": "2025-03-05T10:14:25.735594Z"
    },
    "papermill": {
     "duration": 0.120679,
     "end_time": "2025-03-05T10:14:25.738520",
     "exception": false,
     "start_time": "2025-03-05T10:14:25.617841",
     "status": "completed"
    },
    "tags": []
   },
   "outputs": [
    {
     "data": {
      "text/plain": [
       "loan_status\n",
       "Current                                                1217855\n",
       "Fully Paid                                             1111884\n",
       "Charged Off                                             273973\n",
       "Late (31-120 days)                                       27067\n",
       "In Grace Period                                          11386\n",
       "Late (16-30 days)                                         5558\n",
       "Does not meet the credit policy. Status:Fully Paid        1988\n",
       "Does not meet the credit policy. Status:Charged Off        761\n",
       "Default                                                     45\n",
       "NaN                                                         33\n",
       "Name: count, dtype: int64"
      ]
     },
     "execution_count": 6,
     "metadata": {},
     "output_type": "execute_result"
    }
   ],
   "source": [
    "l_acpt['loan_status'].value_counts(dropna=False)"
   ]
  },
  {
   "cell_type": "markdown",
   "id": "920a176d",
   "metadata": {
    "papermill": {
     "duration": 0.008709,
     "end_time": "2025-03-05T10:14:25.756111",
     "exception": false,
     "start_time": "2025-03-05T10:14:25.747402",
     "status": "completed"
    },
    "tags": []
   },
   "source": [
    "Loan status - is the column we are gonna predict using our Ml model.\n",
    "we drop the features missing more than the 30% of the data.\n",
    "and select only the features that would be available for an investor to decide wheter to fund the loan. "
   ]
  },
  {
   "cell_type": "markdown",
   "id": "d8c45b91",
   "metadata": {
    "papermill": {
     "duration": 0.009247,
     "end_time": "2025-03-05T10:14:25.775009",
     "exception": false,
     "start_time": "2025-03-05T10:14:25.765762",
     "status": "completed"
    },
    "tags": []
   },
   "source": [
    "NEST STEP IS TO CREATE A DROP LIST(features with missing value more than 30%)."
   ]
  },
  {
   "cell_type": "code",
   "execution_count": 7,
   "id": "2103d8b4",
   "metadata": {
    "execution": {
     "iopub.execute_input": "2025-03-05T10:14:25.794361Z",
     "iopub.status.busy": "2025-03-05T10:14:25.793967Z",
     "iopub.status.idle": "2025-03-05T10:14:30.955855Z",
     "shell.execute_reply": "2025-03-05T10:14:30.954744Z"
    },
    "papermill": {
     "duration": 5.173821,
     "end_time": "2025-03-05T10:14:30.957647",
     "exception": false,
     "start_time": "2025-03-05T10:14:25.783826",
     "status": "completed"
    },
    "tags": []
   },
   "outputs": [
    {
     "name": "stdout",
     "output_type": "stream",
     "text": [
      "id                                            0.000000\n",
      "fico_range_low                                0.000012\n",
      "fico_range_high                               0.000012\n",
      "revol_bal                                     0.000012\n",
      "out_prncp                                     0.000012\n",
      "                                                ...   \n",
      "hardship_reason                               0.995827\n",
      "hardship_type                                 0.995827\n",
      "hardship_amount                               0.995827\n",
      "orig_projected_additional_accrued_interest    0.996686\n",
      "member_id                                     1.000000\n",
      "Length: 150, dtype: float64\n"
     ]
    }
   ],
   "source": [
    "#calculating missing value count in each column feature.\n",
    "Missing_Values = l_acpt.isnull().mean().sort_values(ascending=True)\n",
    "print(Missing_Values)"
   ]
  },
  {
   "cell_type": "code",
   "execution_count": 8,
   "id": "85192b95",
   "metadata": {
    "execution": {
     "iopub.execute_input": "2025-03-05T10:14:30.979022Z",
     "iopub.status.busy": "2025-03-05T10:14:30.978670Z",
     "iopub.status.idle": "2025-03-05T10:14:30.985132Z",
     "shell.execute_reply": "2025-03-05T10:14:30.983994Z"
    },
    "papermill": {
     "duration": 0.019481,
     "end_time": "2025-03-05T10:14:30.986856",
     "exception": false,
     "start_time": "2025-03-05T10:14:30.967375",
     "status": "completed"
    },
    "tags": []
   },
   "outputs": [
    {
     "name": "stdout",
     "output_type": "stream",
     "text": [
      "['all_util', 'annual_inc_joint', 'debt_settlement_flag_date', 'deferral_term', 'desc', 'dti_joint', 'hardship_amount', 'hardship_dpd', 'hardship_end_date', 'hardship_last_payment_amount', 'hardship_length', 'hardship_loan_status', 'hardship_payoff_balance_amount', 'hardship_reason', 'hardship_start_date', 'hardship_status', 'hardship_type', 'il_util', 'inq_fi', 'inq_last_12m', 'max_bal_bc', 'member_id', 'mths_since_last_delinq', 'mths_since_last_major_derog', 'mths_since_last_record', 'mths_since_rcnt_il', 'mths_since_recent_bc_dlq', 'mths_since_recent_revol_delinq', 'next_pymnt_d', 'open_acc_6m', 'open_act_il', 'open_il_12m', 'open_il_24m', 'open_rv_12m', 'open_rv_24m', 'orig_projected_additional_accrued_interest', 'payment_plan_start_date', 'revol_bal_joint', 'sec_app_chargeoff_within_12_mths', 'sec_app_collections_12_mths_ex_med', 'sec_app_earliest_cr_line', 'sec_app_fico_range_high', 'sec_app_fico_range_low', 'sec_app_inq_last_6mths', 'sec_app_mort_acc', 'sec_app_mths_since_last_major_derog', 'sec_app_num_rev_accts', 'sec_app_open_acc', 'sec_app_open_act_il', 'sec_app_revol_util', 'settlement_amount', 'settlement_date', 'settlement_percentage', 'settlement_status', 'settlement_term', 'total_bal_il', 'total_cu_tl', 'verification_status_joint']\n"
     ]
    }
   ],
   "source": [
    "#printing all the features where the percentage of missing values is more than 0.3\n",
    "drop_list = sorted(list(Missing_Values[Missing_Values > 0.3].index))\n",
    "print(drop_list)\n",
    "\n",
    "\n"
   ]
  },
  {
   "cell_type": "code",
   "execution_count": 9,
   "id": "ab13e6a9",
   "metadata": {
    "execution": {
     "iopub.execute_input": "2025-03-05T10:14:31.006382Z",
     "iopub.status.busy": "2025-03-05T10:14:31.005980Z",
     "iopub.status.idle": "2025-03-05T10:14:31.012933Z",
     "shell.execute_reply": "2025-03-05T10:14:31.011912Z"
    },
    "papermill": {
     "duration": 0.018617,
     "end_time": "2025-03-05T10:14:31.014729",
     "exception": false,
     "start_time": "2025-03-05T10:14:30.996112",
     "status": "completed"
    },
    "tags": []
   },
   "outputs": [
    {
     "data": {
      "text/plain": [
       "58"
      ]
     },
     "execution_count": 9,
     "metadata": {},
     "output_type": "execute_result"
    }
   ],
   "source": [
    "len(drop_list)"
   ]
  },
  {
   "cell_type": "code",
   "execution_count": 10,
   "id": "e25b5bd4",
   "metadata": {
    "execution": {
     "iopub.execute_input": "2025-03-05T10:14:31.034500Z",
     "iopub.status.busy": "2025-03-05T10:14:31.034162Z",
     "iopub.status.idle": "2025-03-05T10:14:31.039790Z",
     "shell.execute_reply": "2025-03-05T10:14:31.038620Z"
    },
    "papermill": {
     "duration": 0.017324,
     "end_time": "2025-03-05T10:14:31.041469",
     "exception": false,
     "start_time": "2025-03-05T10:14:31.024145",
     "status": "completed"
    },
    "tags": []
   },
   "outputs": [
    {
     "name": "stdout",
     "output_type": "stream",
     "text": [
      "['acc_now_delinq', 'acc_open_past_24mths', 'addr_state', 'annual_inc', 'application_type', 'avg_cur_bal', 'bc_open_to_buy', 'bc_util', 'chargeoff_within_12_mths', 'collection_recovery_fee', 'collections_12_mths_ex_med', 'debt_settlement_flag', 'delinq_2yrs', 'delinq_amnt', 'dti', 'earliest_cr_line', 'emp_length', 'emp_title', 'fico_range_high', 'fico_range_low', 'funded_amnt', 'funded_amnt_inv', 'grade', 'hardship_flag', 'home_ownership', 'id', 'initial_list_status', 'inq_last_6mths', 'installment', 'int_rate', 'issue_d', 'last_credit_pull_d', 'last_fico_range_high', 'last_fico_range_low', 'last_pymnt_amnt', 'last_pymnt_d', 'loan_amnt', 'loan_status', 'mo_sin_old_il_acct', 'mo_sin_old_rev_tl_op', 'mo_sin_rcnt_rev_tl_op', 'mo_sin_rcnt_tl', 'mort_acc', 'mths_since_recent_bc', 'mths_since_recent_inq', 'num_accts_ever_120_pd', 'num_actv_bc_tl', 'num_actv_rev_tl', 'num_bc_sats', 'num_bc_tl', 'num_il_tl', 'num_op_rev_tl', 'num_rev_accts', 'num_rev_tl_bal_gt_0', 'num_sats', 'num_tl_120dpd_2m', 'num_tl_30dpd', 'num_tl_90g_dpd_24m', 'num_tl_op_past_12m', 'open_acc', 'out_prncp', 'out_prncp_inv', 'pct_tl_nvr_dlq', 'percent_bc_gt_75', 'policy_code', 'pub_rec', 'pub_rec_bankruptcies', 'purpose', 'pymnt_plan', 'recoveries', 'revol_bal', 'revol_util', 'sub_grade', 'tax_liens', 'term', 'title', 'tot_coll_amt', 'tot_cur_bal', 'tot_hi_cred_lim', 'total_acc', 'total_bal_ex_mort', 'total_bc_limit', 'total_il_high_credit_limit', 'total_pymnt', 'total_pymnt_inv', 'total_rec_int', 'total_rec_late_fee', 'total_rec_prncp', 'total_rev_hi_lim', 'url', 'verification_status', 'zip_code']\n"
     ]
    }
   ],
   "source": [
    "\n",
    "Main_list = sorted(list(Missing_Values[Missing_Values < 0.3].index))\n",
    "print(Main_list)\n"
   ]
  },
  {
   "cell_type": "code",
   "execution_count": 11,
   "id": "e042cfab",
   "metadata": {
    "execution": {
     "iopub.execute_input": "2025-03-05T10:14:31.061192Z",
     "iopub.status.busy": "2025-03-05T10:14:31.060831Z",
     "iopub.status.idle": "2025-03-05T10:14:31.066515Z",
     "shell.execute_reply": "2025-03-05T10:14:31.065565Z"
    },
    "papermill": {
     "duration": 0.017727,
     "end_time": "2025-03-05T10:14:31.068321",
     "exception": false,
     "start_time": "2025-03-05T10:14:31.050594",
     "status": "completed"
    },
    "tags": []
   },
   "outputs": [
    {
     "data": {
      "text/plain": [
       "92"
      ]
     },
     "execution_count": 11,
     "metadata": {},
     "output_type": "execute_result"
    }
   ],
   "source": [
    "len(Main_list)"
   ]
  },
  {
   "cell_type": "code",
   "execution_count": 12,
   "id": "74cea995",
   "metadata": {
    "execution": {
     "iopub.execute_input": "2025-03-05T10:14:31.088250Z",
     "iopub.status.busy": "2025-03-05T10:14:31.087870Z",
     "iopub.status.idle": "2025-03-05T10:14:31.095571Z",
     "shell.execute_reply": "2025-03-05T10:14:31.094552Z"
    },
    "papermill": {
     "duration": 0.019582,
     "end_time": "2025-03-05T10:14:31.097287",
     "exception": false,
     "start_time": "2025-03-05T10:14:31.077705",
     "status": "completed"
    },
    "tags": []
   },
   "outputs": [
    {
     "name": "stdout",
     "output_type": "stream",
     "text": [
      "['acc_now_delinq', 'acc_open_past_24mths', 'addr_state', 'annual_inc', 'avg_cur_bal', 'bc_open_to_buy', 'bc_util', 'chargeoff_within_12_mths', 'collections_12_mths_ex_med', 'debt_settlement_flag', 'delinq_2yrs', 'delinq_amnt', 'dti', 'earliest_cr_line', 'emp_length', 'emp_title', 'fico_range_high', 'fico_range_low', 'funded_amnt', 'funded_amnt_inv', 'grade', 'hardship_flag', 'home_ownership', 'initial_list_status', 'inq_last_6mths', 'installment', 'int_rate', 'issue_d', 'loan_amnt', 'loan_status', 'mo_sin_old_il_acct', 'mo_sin_old_rev_tl_op', 'mo_sin_rcnt_rev_tl_op', 'mo_sin_rcnt_tl', 'mort_acc', 'mths_since_recent_bc', 'mths_since_recent_inq', 'num_accts_ever_120_pd', 'num_actv_bc_tl', 'num_actv_rev_tl', 'num_bc_sats', 'num_bc_tl', 'num_il_tl', 'num_op_rev_tl', 'num_rev_accts', 'num_rev_tl_bal_gt_0', 'num_sats', 'num_tl_120dpd_2m', 'num_tl_30dpd', 'num_tl_90g_dpd_24m', 'num_tl_op_past_12m', 'open_acc', 'pct_tl_nvr_dlq', 'percent_bc_gt_75', 'pub_rec', 'pub_rec_bankruptcies', 'purpose', 'revol_bal', 'revol_util', 'sub_grade', 'tax_liens', 'term', 'tot_coll_amt', 'tot_cur_bal', 'tot_hi_cred_lim', 'total_acc', 'total_bal_ex_mort', 'total_bc_limit', 'total_il_high_credit_limit', 'total_rev_hi_lim', 'verification_status']\n"
     ]
    },
    {
     "data": {
      "text/plain": [
       "71"
      ]
     },
     "execution_count": 12,
     "metadata": {},
     "output_type": "execute_result"
    }
   ],
   "source": [
    "# Step 1: Drop Unnecessary Columns\n",
    "cols_to_drop = ['id', 'url', 'zip_code', 'title', 'policy_code', 'application_type', 'pymnt_plan',\n",
    "                'last_credit_pull_d', 'last_fico_range_high', 'last_fico_range_low', 'last_pymnt_amnt', 'last_pymnt_d',\n",
    "                'out_prncp', 'out_prncp_inv', 'total_pymnt', 'total_pymnt_inv', 'total_rec_int', 'total_rec_prncp', \n",
    "                'total_rec_late_fee', 'recoveries', 'collection_recovery_fee']\n",
    "\n",
    "Main_list = [col for col in Main_list if col not in cols_to_drop]\n",
    "print(Main_list)\n",
    "len(Main_list)\n"
   ]
  },
  {
   "cell_type": "code",
   "execution_count": 13,
   "id": "1107be70",
   "metadata": {
    "execution": {
     "iopub.execute_input": "2025-03-05T10:14:31.117438Z",
     "iopub.status.busy": "2025-03-05T10:14:31.117084Z",
     "iopub.status.idle": "2025-03-05T10:14:31.975716Z",
     "shell.execute_reply": "2025-03-05T10:14:31.974773Z"
    },
    "papermill": {
     "duration": 0.870805,
     "end_time": "2025-03-05T10:14:31.977558",
     "exception": false,
     "start_time": "2025-03-05T10:14:31.106753",
     "status": "completed"
    },
    "tags": []
   },
   "outputs": [],
   "source": [
    "#BUILDING THE DATA FRAME WITH ONLY THE COLUMNS PRESENT IN MAIN LIST.\n",
    "df_filtered = l_acpt[Main_list]\n",
    "#print(df_filtered)\n",
    "\n"
   ]
  },
  {
   "cell_type": "code",
   "execution_count": 14,
   "id": "5cd31f24",
   "metadata": {
    "execution": {
     "iopub.execute_input": "2025-03-05T10:14:31.998794Z",
     "iopub.status.busy": "2025-03-05T10:14:31.998464Z",
     "iopub.status.idle": "2025-03-05T10:14:32.861857Z",
     "shell.execute_reply": "2025-03-05T10:14:32.860151Z"
    },
    "papermill": {
     "duration": 0.875865,
     "end_time": "2025-03-05T10:14:32.863999",
     "exception": false,
     "start_time": "2025-03-05T10:14:31.988134",
     "status": "completed"
    },
    "tags": []
   },
   "outputs": [],
   "source": [
    "# Step 2: Filter Loan Status to \"Fully Paid\" & \"Charged Off\"\n",
    "df_filtered = df_filtered[df_filtered['loan_status'].isin(['Fully Paid', 'Charged Off'])]\n",
    "\n",
    "# Convert target to binary (1 = Charged Off, 0 = Fully Paid)\n",
    "df_filtered['loan_status'] = df_filtered['loan_status'].map({'Fully Paid': 0, 'Charged Off': 1})\n",
    "\n"
   ]
  },
  {
   "cell_type": "code",
   "execution_count": 15,
   "id": "e2a5a347",
   "metadata": {
    "execution": {
     "iopub.execute_input": "2025-03-05T10:14:32.885345Z",
     "iopub.status.busy": "2025-03-05T10:14:32.884944Z",
     "iopub.status.idle": "2025-03-05T10:14:32.911174Z",
     "shell.execute_reply": "2025-03-05T10:14:32.910180Z"
    },
    "papermill": {
     "duration": 0.03886,
     "end_time": "2025-03-05T10:14:32.913126",
     "exception": false,
     "start_time": "2025-03-05T10:14:32.874266",
     "status": "completed"
    },
    "tags": []
   },
   "outputs": [
    {
     "data": {
      "text/html": [
       "<div>\n",
       "<style scoped>\n",
       "    .dataframe tbody tr th:only-of-type {\n",
       "        vertical-align: middle;\n",
       "    }\n",
       "\n",
       "    .dataframe tbody tr th {\n",
       "        vertical-align: top;\n",
       "    }\n",
       "\n",
       "    .dataframe thead th {\n",
       "        text-align: right;\n",
       "    }\n",
       "</style>\n",
       "<table border=\"1\" class=\"dataframe\">\n",
       "  <thead>\n",
       "    <tr style=\"text-align: right;\">\n",
       "      <th></th>\n",
       "      <th>acc_now_delinq</th>\n",
       "      <th>acc_open_past_24mths</th>\n",
       "      <th>addr_state</th>\n",
       "      <th>annual_inc</th>\n",
       "      <th>avg_cur_bal</th>\n",
       "      <th>bc_open_to_buy</th>\n",
       "      <th>bc_util</th>\n",
       "      <th>chargeoff_within_12_mths</th>\n",
       "      <th>collections_12_mths_ex_med</th>\n",
       "      <th>debt_settlement_flag</th>\n",
       "      <th>...</th>\n",
       "      <th>term</th>\n",
       "      <th>tot_coll_amt</th>\n",
       "      <th>tot_cur_bal</th>\n",
       "      <th>tot_hi_cred_lim</th>\n",
       "      <th>total_acc</th>\n",
       "      <th>total_bal_ex_mort</th>\n",
       "      <th>total_bc_limit</th>\n",
       "      <th>total_il_high_credit_limit</th>\n",
       "      <th>total_rev_hi_lim</th>\n",
       "      <th>verification_status</th>\n",
       "    </tr>\n",
       "  </thead>\n",
       "  <tbody>\n",
       "    <tr>\n",
       "      <th>0</th>\n",
       "      <td>0.0</td>\n",
       "      <td>4.0</td>\n",
       "      <td>PA</td>\n",
       "      <td>55000.0</td>\n",
       "      <td>20701.0</td>\n",
       "      <td>1506.0</td>\n",
       "      <td>37.2</td>\n",
       "      <td>0.0</td>\n",
       "      <td>0.0</td>\n",
       "      <td>N</td>\n",
       "      <td>...</td>\n",
       "      <td>36 months</td>\n",
       "      <td>722.0</td>\n",
       "      <td>144904.0</td>\n",
       "      <td>178050.0</td>\n",
       "      <td>13.0</td>\n",
       "      <td>7746.0</td>\n",
       "      <td>2400.0</td>\n",
       "      <td>13734.0</td>\n",
       "      <td>9300.0</td>\n",
       "      <td>Not Verified</td>\n",
       "    </tr>\n",
       "    <tr>\n",
       "      <th>1</th>\n",
       "      <td>0.0</td>\n",
       "      <td>4.0</td>\n",
       "      <td>SD</td>\n",
       "      <td>65000.0</td>\n",
       "      <td>9733.0</td>\n",
       "      <td>57830.0</td>\n",
       "      <td>27.1</td>\n",
       "      <td>0.0</td>\n",
       "      <td>0.0</td>\n",
       "      <td>N</td>\n",
       "      <td>...</td>\n",
       "      <td>36 months</td>\n",
       "      <td>0.0</td>\n",
       "      <td>204396.0</td>\n",
       "      <td>314017.0</td>\n",
       "      <td>38.0</td>\n",
       "      <td>39475.0</td>\n",
       "      <td>79300.0</td>\n",
       "      <td>24667.0</td>\n",
       "      <td>111800.0</td>\n",
       "      <td>Not Verified</td>\n",
       "    </tr>\n",
       "    <tr>\n",
       "      <th>2</th>\n",
       "      <td>0.0</td>\n",
       "      <td>6.0</td>\n",
       "      <td>IL</td>\n",
       "      <td>63000.0</td>\n",
       "      <td>31617.0</td>\n",
       "      <td>2737.0</td>\n",
       "      <td>55.9</td>\n",
       "      <td>0.0</td>\n",
       "      <td>0.0</td>\n",
       "      <td>N</td>\n",
       "      <td>...</td>\n",
       "      <td>60 months</td>\n",
       "      <td>0.0</td>\n",
       "      <td>189699.0</td>\n",
       "      <td>218418.0</td>\n",
       "      <td>18.0</td>\n",
       "      <td>18696.0</td>\n",
       "      <td>6200.0</td>\n",
       "      <td>14877.0</td>\n",
       "      <td>14000.0</td>\n",
       "      <td>Not Verified</td>\n",
       "    </tr>\n",
       "    <tr>\n",
       "      <th>4</th>\n",
       "      <td>0.0</td>\n",
       "      <td>10.0</td>\n",
       "      <td>PA</td>\n",
       "      <td>104433.0</td>\n",
       "      <td>27644.0</td>\n",
       "      <td>4567.0</td>\n",
       "      <td>77.5</td>\n",
       "      <td>0.0</td>\n",
       "      <td>0.0</td>\n",
       "      <td>N</td>\n",
       "      <td>...</td>\n",
       "      <td>60 months</td>\n",
       "      <td>0.0</td>\n",
       "      <td>331730.0</td>\n",
       "      <td>439570.0</td>\n",
       "      <td>35.0</td>\n",
       "      <td>95768.0</td>\n",
       "      <td>20300.0</td>\n",
       "      <td>88097.0</td>\n",
       "      <td>34000.0</td>\n",
       "      <td>Source Verified</td>\n",
       "    </tr>\n",
       "    <tr>\n",
       "      <th>5</th>\n",
       "      <td>0.0</td>\n",
       "      <td>0.0</td>\n",
       "      <td>GA</td>\n",
       "      <td>34000.0</td>\n",
       "      <td>2560.0</td>\n",
       "      <td>844.0</td>\n",
       "      <td>91.0</td>\n",
       "      <td>0.0</td>\n",
       "      <td>0.0</td>\n",
       "      <td>N</td>\n",
       "      <td>...</td>\n",
       "      <td>36 months</td>\n",
       "      <td>0.0</td>\n",
       "      <td>12798.0</td>\n",
       "      <td>16900.0</td>\n",
       "      <td>6.0</td>\n",
       "      <td>12798.0</td>\n",
       "      <td>9400.0</td>\n",
       "      <td>4000.0</td>\n",
       "      <td>12900.0</td>\n",
       "      <td>Source Verified</td>\n",
       "    </tr>\n",
       "  </tbody>\n",
       "</table>\n",
       "<p>5 rows × 71 columns</p>\n",
       "</div>"
      ],
      "text/plain": [
       "   acc_now_delinq  acc_open_past_24mths addr_state  annual_inc  avg_cur_bal  \\\n",
       "0             0.0                   4.0         PA     55000.0      20701.0   \n",
       "1             0.0                   4.0         SD     65000.0       9733.0   \n",
       "2             0.0                   6.0         IL     63000.0      31617.0   \n",
       "4             0.0                  10.0         PA    104433.0      27644.0   \n",
       "5             0.0                   0.0         GA     34000.0       2560.0   \n",
       "\n",
       "   bc_open_to_buy  bc_util  chargeoff_within_12_mths  \\\n",
       "0          1506.0     37.2                       0.0   \n",
       "1         57830.0     27.1                       0.0   \n",
       "2          2737.0     55.9                       0.0   \n",
       "4          4567.0     77.5                       0.0   \n",
       "5           844.0     91.0                       0.0   \n",
       "\n",
       "   collections_12_mths_ex_med debt_settlement_flag  ...        term  \\\n",
       "0                         0.0                    N  ...   36 months   \n",
       "1                         0.0                    N  ...   36 months   \n",
       "2                         0.0                    N  ...   60 months   \n",
       "4                         0.0                    N  ...   60 months   \n",
       "5                         0.0                    N  ...   36 months   \n",
       "\n",
       "   tot_coll_amt  tot_cur_bal tot_hi_cred_lim total_acc total_bal_ex_mort  \\\n",
       "0         722.0     144904.0        178050.0      13.0            7746.0   \n",
       "1           0.0     204396.0        314017.0      38.0           39475.0   \n",
       "2           0.0     189699.0        218418.0      18.0           18696.0   \n",
       "4           0.0     331730.0        439570.0      35.0           95768.0   \n",
       "5           0.0      12798.0         16900.0       6.0           12798.0   \n",
       "\n",
       "   total_bc_limit  total_il_high_credit_limit  total_rev_hi_lim  \\\n",
       "0          2400.0                     13734.0            9300.0   \n",
       "1         79300.0                     24667.0          111800.0   \n",
       "2          6200.0                     14877.0           14000.0   \n",
       "4         20300.0                     88097.0           34000.0   \n",
       "5          9400.0                      4000.0           12900.0   \n",
       "\n",
       "   verification_status  \n",
       "0         Not Verified  \n",
       "1         Not Verified  \n",
       "2         Not Verified  \n",
       "4      Source Verified  \n",
       "5      Source Verified  \n",
       "\n",
       "[5 rows x 71 columns]"
      ]
     },
     "execution_count": 15,
     "metadata": {},
     "output_type": "execute_result"
    }
   ],
   "source": [
    "df_filtered.head(5)"
   ]
  },
  {
   "cell_type": "code",
   "execution_count": 16,
   "id": "0af981ec",
   "metadata": {
    "execution": {
     "iopub.execute_input": "2025-03-05T10:14:32.934247Z",
     "iopub.status.busy": "2025-03-05T10:14:32.933874Z",
     "iopub.status.idle": "2025-03-05T10:14:32.939260Z",
     "shell.execute_reply": "2025-03-05T10:14:32.938175Z"
    },
    "papermill": {
     "duration": 0.018086,
     "end_time": "2025-03-05T10:14:32.941074",
     "exception": false,
     "start_time": "2025-03-05T10:14:32.922988",
     "status": "completed"
    },
    "tags": []
   },
   "outputs": [
    {
     "name": "stdout",
     "output_type": "stream",
     "text": [
      "object\n"
     ]
    }
   ],
   "source": [
    "print(df_filtered['int_rate'].dtype)\n"
   ]
  },
  {
   "cell_type": "code",
   "execution_count": 17,
   "id": "829a1fcc",
   "metadata": {
    "execution": {
     "iopub.execute_input": "2025-03-05T10:14:32.961740Z",
     "iopub.status.busy": "2025-03-05T10:14:32.961392Z",
     "iopub.status.idle": "2025-03-05T10:14:33.005940Z",
     "shell.execute_reply": "2025-03-05T10:14:33.004645Z"
    },
    "papermill": {
     "duration": 0.057062,
     "end_time": "2025-03-05T10:14:33.007720",
     "exception": false,
     "start_time": "2025-03-05T10:14:32.950658",
     "status": "completed"
    },
    "tags": []
   },
   "outputs": [
    {
     "name": "stdout",
     "output_type": "stream",
     "text": [
      "0\n"
     ]
    }
   ],
   "source": [
    "# so no null values\n",
    "print(df_filtered['int_rate'].isnull().sum())  # Check if any NaN values exist\n"
   ]
  },
  {
   "cell_type": "code",
   "execution_count": 18,
   "id": "9e171187",
   "metadata": {
    "execution": {
     "iopub.execute_input": "2025-03-05T10:14:33.029973Z",
     "iopub.status.busy": "2025-03-05T10:14:33.029357Z",
     "iopub.status.idle": "2025-03-05T10:14:33.059693Z",
     "shell.execute_reply": "2025-03-05T10:14:33.058204Z"
    },
    "papermill": {
     "duration": 0.043948,
     "end_time": "2025-03-05T10:14:33.061871",
     "exception": false,
     "start_time": "2025-03-05T10:14:33.017923",
     "status": "completed"
    },
    "tags": []
   },
   "outputs": [
    {
     "name": "stdout",
     "output_type": "stream",
     "text": [
      "   int_rate\n",
      "0     13.99\n",
      "1     11.99\n",
      "2     10.78\n",
      "4     22.45\n",
      "5     13.44\n",
      "6      9.17\n",
      "7      8.49\n",
      "8      6.49\n",
      "9     11.48\n",
      "12    12.88\n",
      "13    19.48\n",
      "14     6.49\n",
      "15     7.49\n",
      "16     7.49\n",
      "17    11.99\n"
     ]
    }
   ],
   "source": [
    "# top 15 rows of interest rates/\n",
    "print(df_filtered[['int_rate']].head(15))  # Prints first 5 rows of 'loan_status'"
   ]
  },
  {
   "cell_type": "code",
   "execution_count": 19,
   "id": "56b981ea",
   "metadata": {
    "execution": {
     "iopub.execute_input": "2025-03-05T10:14:33.083615Z",
     "iopub.status.busy": "2025-03-05T10:14:33.083268Z",
     "iopub.status.idle": "2025-03-05T10:14:33.226347Z",
     "shell.execute_reply": "2025-03-05T10:14:33.225472Z"
    },
    "papermill": {
     "duration": 0.155908,
     "end_time": "2025-03-05T10:14:33.228161",
     "exception": false,
     "start_time": "2025-03-05T10:14:33.072253",
     "status": "completed"
    },
    "tags": []
   },
   "outputs": [],
   "source": [
    "df_filtered['int_rate'] = pd.to_numeric(df_filtered['int_rate'], errors='coerce')\n"
   ]
  },
  {
   "cell_type": "code",
   "execution_count": 20,
   "id": "a5235e10",
   "metadata": {
    "execution": {
     "iopub.execute_input": "2025-03-05T10:14:33.249959Z",
     "iopub.status.busy": "2025-03-05T10:14:33.249616Z",
     "iopub.status.idle": "2025-03-05T10:14:33.276829Z",
     "shell.execute_reply": "2025-03-05T10:14:33.275725Z"
    },
    "papermill": {
     "duration": 0.04019,
     "end_time": "2025-03-05T10:14:33.278549",
     "exception": false,
     "start_time": "2025-03-05T10:14:33.238359",
     "status": "completed"
    },
    "tags": []
   },
   "outputs": [
    {
     "name": "stdout",
     "output_type": "stream",
     "text": [
      "float64\n",
      "[13.99 11.99 10.78 22.45 13.44  9.17  8.49  6.49 11.48 12.88 19.48  7.49\n",
      " 19.89 14.85  5.32 17.97 24.24 15.77  9.8  17.27 18.49  7.91 23.13 20.5\n",
      " 16.59 18.99 26.06 21.48  6.99 27.49 26.99 27.99 28.49  6.   25.09 28.99\n",
      " 16.55  7.89 12.59 13.67 10.64  7.26 17.86 14.48 13.18  6.24  8.38 15.41\n",
      "  9.76 21.99 16.99 25.99 17.57 18.2  22.99  6.89 11.22 19.99 27.31 20.99\n",
      " 27.88 23.99 24.99 26.77 12.05  8.18  9.99 11.49 10.99 14.33 16.9  11.53\n",
      " 18.55 14.65 13.33 12.69 18.25 19.19 12.29 15.61 25.78 19.52 24.5   6.39\n",
      "  5.93  6.92  6.68 21.67 20.49 25.8  18.84 25.57 25.83 25.89  8.67 14.99\n",
      " 17.14  8.19 10.49 11.44  6.03 12.39 15.59  9.49 13.66 14.31 12.99 15.99\n",
      " 16.49 19.24 18.54  7.34 11.98 21.85 20.39  9.43  5.31  6.07 14.07 15.04\n",
      " 18.45 10.9  13.58 17.47 16.01  7.96 23.87 30.65 24.84 25.81 10.41 12.61\n",
      "  6.71 19.42  9.92 22.9  28.72 30.75 30.79 29.69 20.   30.94 30.17  6.08\n",
      " 23.88 10.42  6.72 10.91 21.45 25.82 12.62  7.35 18.06 14.08  9.44 16.02\n",
      "  7.97  9.93 26.3  24.85 15.05 22.91 13.59 19.03 17.09 30.89 30.84  7.21\n",
      "  7.07 30.99 13.49 14.49 12.79 24.49 22.39 17.99 16.29  8.59 11.47 25.29\n",
      "  7.99 21.49 28.88 28.18 26.49 25.69  8.99 27.79  7.59 29.96 15.31  7.39\n",
      " 14.46  9.75 29.67  9.16 10.75  6.97  8.39 25.65 23.32 25.11 22.35 26.14\n",
      " 25.44 27.34 24.11 21.97 21.18 19.53 25.88 26.57 20.75 28.67 28.34 28.14\n",
      " 13.56  8.46 12.73  6.67 16.14 18.94 15.02 20.89 10.08 11.55  6.11 16.91\n",
      "  7.84 14.47 19.92 10.47 23.4  11.06 27.27 25.34 24.37 26.31  9.58  8.08\n",
      " 10.07 12.13 15.49 16.46  7.46  6.83 11.05 10.56  6.19 13.06 14.03 14.52\n",
      " 22.74 11.39 12.74  8.24 26.24  7.24 29.49 24.74 28.69 29.99 25.49 30.74\n",
      " 30.49 15.29 11.16 13.19 14.77  7.69 13.98 11.67 12.49 23.43 10.15 13.35\n",
      " 22.15 18.24  7.12 20.2  24.08 13.65 14.64  9.67  8.9  14.16 18.92  6.62\n",
      "  7.9   7.62 19.47 14.98 12.85 23.7  19.97 16.24 19.22 13.53 22.4  19.2\n",
      "  7.56 11.31 11.8  10.72  7.02 12.98 10.33  8.81  6.46 10.65 15.27 15.96\n",
      " 18.64 21.28  9.91 11.71 12.42 14.27 16.77  7.51 19.91 17.58 22.06 20.3\n",
      " 23.91 23.52 22.11  5.99 18.79 15.23 14.79  5.42 10.59 17.49 15.62 21.36\n",
      " 19.29 18.39 16.89 20.62 22.85 19.69 20.25 23.22 21.74 22.48 23.59 18.07\n",
      " 11.63  7.42 11.14 12.12 19.39 16.11 17.54 22.64 13.84 17.19 12.87 20.69\n",
      " 21.82 19.79 22.94 24.59 24.4  14.82 14.17  7.29 17.88 20.11 17.51 13.43\n",
      " 14.91 15.28 15.65 11.11 10.37 16.4   7.66 10.   18.62 10.74  5.79  9.63\n",
      " 14.54 12.68 19.36 13.8  21.59 20.85 21.22 19.74 20.48  6.91 12.23 10.36\n",
      "  6.17  6.54  9.25 16.69 15.95  8.88  9.62 16.32 14.83 13.72 14.09 20.03\n",
      " 17.8  15.2  15.57 19.66 17.06 18.17 17.43 20.4  20.77 18.91 21.14 17.44\n",
      " 13.23  7.88 11.12 13.61 10.38 17.56 17.93 15.58 14.84 15.21  6.76 11.86\n",
      "  7.14 14.35 16.82 14.72 16.45 18.67 20.53 19.41 20.16 21.27 18.3  19.04\n",
      " 20.9  21.64 10.25 13.11 10.62 13.48 14.59 16.07 15.7   9.88 11.36 15.33\n",
      " 13.85 14.96 14.22  7.74 13.22 13.57 17.04 14.61  8.94 12.18 11.83 16.35\n",
      " 13.92 14.26 19.13 12.53 16.7  16.   17.39 18.09  7.4  18.43 17.74  7.05\n",
      " 20.52 20.86 18.78 21.21 19.82 20.17 13.16  8.   13.47 12.21 16.63  9.32\n",
      " 12.84 11.26 15.68 15.37 10.95 11.89 14.11 13.79  7.68 11.58  7.37 16.95\n",
      " 18.53 14.74 14.42 18.21 17.26 17.9  19.16  9.38 12.72 13.36 11.46 10.51\n",
      "  9.07 13.04 11.78 12.41 10.83 12.09 17.46 14.3  17.15 15.25 10.2  15.88\n",
      " 14.93 16.2  18.72 14.62  8.32 14.12 10.96 10.01 12.86 11.28 11.59  8.63\n",
      " 12.54 12.22 11.91 15.38 16.96 13.17  9.7  16.33 14.75 15.07 10.71 11.34\n",
      " 10.39 13.87 11.03 11.66 13.24  9.45 13.55 11.97 12.92 15.45 14.5  14.18\n",
      " 15.13 16.08 15.76 17.03 17.34 16.71  9.83 13.62 10.46  9.51  9.2  13.3\n",
      "  7.75 12.36 12.67 11.72 13.93  8.07  7.43 12.04 14.25 14.88 11.41 11.09\n",
      " 10.14 16.15 15.83 18.36  9.64  9.96  9.01  9.33 11.54 12.17 12.8  14.38\n",
      " 13.75 14.7  13.12 10.28  8.7  14.67 15.01 17.76 21.7  15.1  17.1  23.1\n",
      " 21.    8.6  13.68 15.22  9.71 21.6  22.2  22.7  16.78 18.85 13.05 23.5\n",
      " 12.35 24.89 21.15 20.8  20.31 25.28 15.8  19.05 18.75 10.16 19.72 23.76\n",
      " 17.77 23.28 21.98 24.7  23.83 23.63 22.95 22.47 24.83 15.81 22.78 23.33\n",
      " 24.2  24.76 24.33 23.26 24.52 14.28   nan]\n"
     ]
    }
   ],
   "source": [
    "print(df_filtered['int_rate'].dtype)\n",
    "print(df_filtered['int_rate'].unique())\n"
   ]
  },
  {
   "cell_type": "code",
   "execution_count": 21,
   "id": "4576acc8",
   "metadata": {
    "execution": {
     "iopub.execute_input": "2025-03-05T10:14:33.299885Z",
     "iopub.status.busy": "2025-03-05T10:14:33.299553Z",
     "iopub.status.idle": "2025-03-05T10:14:33.306564Z",
     "shell.execute_reply": "2025-03-05T10:14:33.304716Z"
    },
    "papermill": {
     "duration": 0.020092,
     "end_time": "2025-03-05T10:14:33.308925",
     "exception": false,
     "start_time": "2025-03-05T10:14:33.288833",
     "status": "completed"
    },
    "tags": []
   },
   "outputs": [
    {
     "name": "stdout",
     "output_type": "stream",
     "text": [
      "0     10+ years\n",
      "1     10+ years\n",
      "2     10+ years\n",
      "4       3 years\n",
      "5       4 years\n",
      "6     10+ years\n",
      "7     10+ years\n",
      "8       6 years\n",
      "9     10+ years\n",
      "12      3 years\n",
      "Name: emp_length, dtype: object\n"
     ]
    }
   ],
   "source": [
    "print(df_filtered['emp_length'].head(10))"
   ]
  },
  {
   "cell_type": "code",
   "execution_count": 22,
   "id": "e87564db",
   "metadata": {
    "execution": {
     "iopub.execute_input": "2025-03-05T10:14:33.330952Z",
     "iopub.status.busy": "2025-03-05T10:14:33.330616Z",
     "iopub.status.idle": "2025-03-05T10:14:33.597497Z",
     "shell.execute_reply": "2025-03-05T10:14:33.596343Z"
    },
    "papermill": {
     "duration": 0.280221,
     "end_time": "2025-03-05T10:14:33.599861",
     "exception": false,
     "start_time": "2025-03-05T10:14:33.319640",
     "status": "completed"
    },
    "tags": []
   },
   "outputs": [],
   "source": [
    "# Convert emp_length and emp_title to string (categorical)\n",
    "df_filtered['emp_length'] = df_filtered['emp_length'].astype(str)\n",
    "df_filtered['emp_title'] = df_filtered['emp_title'].astype(str)\n",
    "\n",
    "# Convert revol_util to float (numeric)\n",
    "df_filtered['revol_util'] = pd.to_numeric(df_filtered['revol_util'], errors='coerce')\n"
   ]
  },
  {
   "cell_type": "code",
   "execution_count": 23,
   "id": "1f94261f",
   "metadata": {
    "execution": {
     "iopub.execute_input": "2025-03-05T10:14:33.623999Z",
     "iopub.status.busy": "2025-03-05T10:14:33.623662Z",
     "iopub.status.idle": "2025-03-05T10:14:36.298143Z",
     "shell.execute_reply": "2025-03-05T10:14:36.296871Z"
    },
    "papermill": {
     "duration": 2.689497,
     "end_time": "2025-03-05T10:14:36.300501",
     "exception": false,
     "start_time": "2025-03-05T10:14:33.611004",
     "status": "completed"
    },
    "tags": []
   },
   "outputs": [],
   "source": [
    "from sklearn.ensemble import RandomForestClassifier\n",
    "from sklearn.feature_selection import SelectFromModel\n",
    "from sklearn.preprocessing import LabelEncoder\n",
    "from sklearn.impute import SimpleImputer\n",
    "import matplotlib.pyplot as plt\n",
    "import seaborn as sns\n",
    "from sklearn.pipeline import Pipeline\n",
    "from sklearn.preprocessing import LabelEncoder\n",
    "from sklearn.preprocessing import OneHotEncoder\n",
    "from sklearn.compose import ColumnTransformer\n"
   ]
  },
  {
   "cell_type": "code",
   "execution_count": 24,
   "id": "f2f1364b",
   "metadata": {
    "execution": {
     "iopub.execute_input": "2025-03-05T10:14:36.323717Z",
     "iopub.status.busy": "2025-03-05T10:14:36.323032Z",
     "iopub.status.idle": "2025-03-05T10:14:43.691980Z",
     "shell.execute_reply": "2025-03-05T10:14:43.690800Z"
    },
    "papermill": {
     "duration": 7.382744,
     "end_time": "2025-03-05T10:14:43.693837",
     "exception": false,
     "start_time": "2025-03-05T10:14:36.311093",
     "status": "completed"
    },
    "tags": []
   },
   "outputs": [
    {
     "name": "stdout",
     "output_type": "stream",
     "text": [
      "Index(['addr_state', 'debt_settlement_flag', 'earliest_cr_line', 'emp_length',\n",
      "       'emp_title', 'grade', 'hardship_flag', 'home_ownership',\n",
      "       'initial_list_status', 'issue_d', 'purpose', 'sub_grade', 'term',\n",
      "       'verification_status', 'acc_now_delinq', 'acc_open_past_24mths',\n",
      "       'annual_inc', 'avg_cur_bal', 'bc_open_to_buy', 'bc_util',\n",
      "       'chargeoff_within_12_mths', 'collections_12_mths_ex_med', 'delinq_2yrs',\n",
      "       'delinq_amnt', 'dti', 'fico_range_high', 'fico_range_low',\n",
      "       'funded_amnt', 'funded_amnt_inv', 'inq_last_6mths', 'installment',\n",
      "       'int_rate', 'loan_amnt', 'mo_sin_old_il_acct', 'mo_sin_old_rev_tl_op',\n",
      "       'mo_sin_rcnt_rev_tl_op', 'mo_sin_rcnt_tl', 'mort_acc',\n",
      "       'mths_since_recent_bc', 'mths_since_recent_inq',\n",
      "       'num_accts_ever_120_pd', 'num_actv_bc_tl', 'num_actv_rev_tl',\n",
      "       'num_bc_sats', 'num_bc_tl', 'num_il_tl', 'num_op_rev_tl',\n",
      "       'num_rev_accts', 'num_rev_tl_bal_gt_0', 'num_sats', 'num_tl_120dpd_2m',\n",
      "       'num_tl_30dpd', 'num_tl_90g_dpd_24m', 'num_tl_op_past_12m', 'open_acc',\n",
      "       'pct_tl_nvr_dlq', 'percent_bc_gt_75', 'pub_rec', 'pub_rec_bankruptcies',\n",
      "       'revol_bal', 'revol_util', 'tax_liens', 'tot_coll_amt', 'tot_cur_bal',\n",
      "       'tot_hi_cred_lim', 'total_acc', 'total_bal_ex_mort', 'total_bc_limit',\n",
      "       'total_il_high_credit_limit', 'total_rev_hi_lim'],\n",
      "      dtype='object')\n",
      "['addr_state', 'debt_settlement_flag', 'earliest_cr_line', 'emp_length', 'emp_title', 'grade', 'hardship_flag', 'home_ownership', 'initial_list_status', 'issue_d', 'purpose', 'sub_grade', 'term', 'verification_status', 'acc_now_delinq', 'acc_open_past_24mths', 'annual_inc', 'avg_cur_bal', 'bc_open_to_buy', 'bc_util', 'chargeoff_within_12_mths', 'collections_12_mths_ex_med', 'delinq_2yrs', 'delinq_amnt', 'dti', 'fico_range_high', 'fico_range_low', 'funded_amnt', 'funded_amnt_inv', 'inq_last_6mths', 'installment', 'int_rate', 'loan_amnt', 'mo_sin_old_il_acct', 'mo_sin_old_rev_tl_op', 'mo_sin_rcnt_rev_tl_op', 'mo_sin_rcnt_tl', 'mort_acc', 'mths_since_recent_bc', 'mths_since_recent_inq', 'num_accts_ever_120_pd', 'num_actv_bc_tl', 'num_actv_rev_tl', 'num_bc_sats', 'num_bc_tl', 'num_il_tl', 'num_op_rev_tl', 'num_rev_accts', 'num_rev_tl_bal_gt_0', 'num_sats', 'num_tl_120dpd_2m', 'num_tl_30dpd', 'num_tl_90g_dpd_24m', 'num_tl_op_past_12m', 'open_acc', 'pct_tl_nvr_dlq', 'percent_bc_gt_75', 'pub_rec', 'pub_rec_bankruptcies', 'revol_bal', 'revol_util', 'tax_liens', 'tot_coll_amt', 'tot_cur_bal', 'tot_hi_cred_lim', 'total_acc', 'total_bal_ex_mort', 'total_bc_limit', 'total_il_high_credit_limit', 'total_rev_hi_lim']\n",
      "Columns in y_train: loan_status\n"
     ]
    }
   ],
   "source": [
    "# Ensure df_filtered is a copy to avoid SettingWithCopyWarning\n",
    "df_filtered = df_filtered.copy()\n",
    "\n",
    "from sklearn.model_selection import train_test_split\n",
    "\n",
    "# Step 5: Feature Selection using Random Forest\n",
    "X = df_filtered.drop(columns=['loan_status'])\n",
    "y = df_filtered['loan_status']\n",
    "\n",
    "# Using tmp to keep the training set completely detached from the valid and the test set\n",
    "X_train_full, X_temp, y_train, y_temp = train_test_split(X, y, test_size=0.3, random_state=42)\n",
    "\n",
    "# Now split the temporary data (X_temp, y_temp) into validation and test sets\n",
    "X_valid_full, X_test, y_valid, y_test = train_test_split(X_temp, y_temp, test_size=0.5, random_state=42)\n",
    "\n",
    "df_filtered_without_target = df_filtered.drop(columns=['loan_status'])\n",
    "\n",
    "# Step 2: Select categorical and numerical columns, excluding 'loan_status'\n",
    "cat_cols = df_filtered_without_target.select_dtypes(include=['object']).columns\n",
    "num_cols = df_filtered_without_target.select_dtypes(include=['int64', 'float64']).columns\n",
    "\n",
    "# Keep selected columns only\n",
    "my_cols = list(cat_cols) + list(num_cols)  # Ensure proper concatenation\n",
    "X_train = X_train_full[my_cols].copy()\n",
    "X_valid = X_valid_full[my_cols].copy()\n",
    "\n",
    "\n",
    "#print(y_train.columns)\n",
    "print(X_train.columns)# Check what columns are present in X_train \n",
    "print(my_cols)  # Check what columns you are passing to the ColumnTransformer\n",
    "print(\"Columns in y_train:\", y_train.name)  # This should print 'loan_status'\n",
    "\n",
    "\n"
   ]
  },
  {
   "cell_type": "code",
   "execution_count": 25,
   "id": "76da42b7",
   "metadata": {
    "execution": {
     "iopub.execute_input": "2025-03-05T10:14:43.716757Z",
     "iopub.status.busy": "2025-03-05T10:14:43.716373Z",
     "iopub.status.idle": "2025-03-05T10:14:44.404896Z",
     "shell.execute_reply": "2025-03-05T10:14:44.403659Z"
    },
    "papermill": {
     "duration": 0.702095,
     "end_time": "2025-03-05T10:14:44.407138",
     "exception": false,
     "start_time": "2025-03-05T10:14:43.705043",
     "status": "completed"
    },
    "tags": []
   },
   "outputs": [],
   "source": [
    "# Preprocessing for numerical data\n",
    "from sklearn.impute import SimpleImputer\n",
    "numerical_transformer = SimpleImputer(strategy='constant')\n",
    "\n",
    "# Preprocessing for categorical data\n",
    "from sklearn.pipeline import Pipeline\n",
    "from category_encoders import TargetEncoder\n",
    "\n",
    "categorical_transformer = TargetEncoder()\n",
    "\n",
    "# Bundle preprocessing for numerical and categorical data\n",
    "from sklearn.compose import ColumnTransformer\n",
    "preprocessor = ColumnTransformer(\n",
    "    transformers=[\n",
    "        ('num', numerical_transformer, num_cols),\n",
    "        ('cat', categorical_transformer, cat_cols)\n",
    "    ])\n"
   ]
  },
  {
   "cell_type": "code",
   "execution_count": 26,
   "id": "dc842089",
   "metadata": {
    "execution": {
     "iopub.execute_input": "2025-03-05T10:14:44.430616Z",
     "iopub.status.busy": "2025-03-05T10:14:44.430094Z",
     "iopub.status.idle": "2025-03-05T10:16:45.642731Z",
     "shell.execute_reply": "2025-03-05T10:16:45.641515Z"
    },
    "papermill": {
     "duration": 121.236406,
     "end_time": "2025-03-05T10:16:45.655438",
     "exception": false,
     "start_time": "2025-03-05T10:14:44.419032",
     "status": "completed"
    },
    "tags": []
   },
   "outputs": [
    {
     "data": {
      "text/html": [
       "<style>#sk-container-id-1 {color: black;background-color: white;}#sk-container-id-1 pre{padding: 0;}#sk-container-id-1 div.sk-toggleable {background-color: white;}#sk-container-id-1 label.sk-toggleable__label {cursor: pointer;display: block;width: 100%;margin-bottom: 0;padding: 0.3em;box-sizing: border-box;text-align: center;}#sk-container-id-1 label.sk-toggleable__label-arrow:before {content: \"▸\";float: left;margin-right: 0.25em;color: #696969;}#sk-container-id-1 label.sk-toggleable__label-arrow:hover:before {color: black;}#sk-container-id-1 div.sk-estimator:hover label.sk-toggleable__label-arrow:before {color: black;}#sk-container-id-1 div.sk-toggleable__content {max-height: 0;max-width: 0;overflow: hidden;text-align: left;background-color: #f0f8ff;}#sk-container-id-1 div.sk-toggleable__content pre {margin: 0.2em;color: black;border-radius: 0.25em;background-color: #f0f8ff;}#sk-container-id-1 input.sk-toggleable__control:checked~div.sk-toggleable__content {max-height: 200px;max-width: 100%;overflow: auto;}#sk-container-id-1 input.sk-toggleable__control:checked~label.sk-toggleable__label-arrow:before {content: \"▾\";}#sk-container-id-1 div.sk-estimator input.sk-toggleable__control:checked~label.sk-toggleable__label {background-color: #d4ebff;}#sk-container-id-1 div.sk-label input.sk-toggleable__control:checked~label.sk-toggleable__label {background-color: #d4ebff;}#sk-container-id-1 input.sk-hidden--visually {border: 0;clip: rect(1px 1px 1px 1px);clip: rect(1px, 1px, 1px, 1px);height: 1px;margin: -1px;overflow: hidden;padding: 0;position: absolute;width: 1px;}#sk-container-id-1 div.sk-estimator {font-family: monospace;background-color: #f0f8ff;border: 1px dotted black;border-radius: 0.25em;box-sizing: border-box;margin-bottom: 0.5em;}#sk-container-id-1 div.sk-estimator:hover {background-color: #d4ebff;}#sk-container-id-1 div.sk-parallel-item::after {content: \"\";width: 100%;border-bottom: 1px solid gray;flex-grow: 1;}#sk-container-id-1 div.sk-label:hover label.sk-toggleable__label {background-color: #d4ebff;}#sk-container-id-1 div.sk-serial::before {content: \"\";position: absolute;border-left: 1px solid gray;box-sizing: border-box;top: 0;bottom: 0;left: 50%;z-index: 0;}#sk-container-id-1 div.sk-serial {display: flex;flex-direction: column;align-items: center;background-color: white;padding-right: 0.2em;padding-left: 0.2em;position: relative;}#sk-container-id-1 div.sk-item {position: relative;z-index: 1;}#sk-container-id-1 div.sk-parallel {display: flex;align-items: stretch;justify-content: center;background-color: white;position: relative;}#sk-container-id-1 div.sk-item::before, #sk-container-id-1 div.sk-parallel-item::before {content: \"\";position: absolute;border-left: 1px solid gray;box-sizing: border-box;top: 0;bottom: 0;left: 50%;z-index: -1;}#sk-container-id-1 div.sk-parallel-item {display: flex;flex-direction: column;z-index: 1;position: relative;background-color: white;}#sk-container-id-1 div.sk-parallel-item:first-child::after {align-self: flex-end;width: 50%;}#sk-container-id-1 div.sk-parallel-item:last-child::after {align-self: flex-start;width: 50%;}#sk-container-id-1 div.sk-parallel-item:only-child::after {width: 0;}#sk-container-id-1 div.sk-dashed-wrapped {border: 1px dashed gray;margin: 0 0.4em 0.5em 0.4em;box-sizing: border-box;padding-bottom: 0.4em;background-color: white;}#sk-container-id-1 div.sk-label label {font-family: monospace;font-weight: bold;display: inline-block;line-height: 1.2em;}#sk-container-id-1 div.sk-label-container {text-align: center;}#sk-container-id-1 div.sk-container {/* jupyter's `normalize.less` sets `[hidden] { display: none; }` but bootstrap.min.css set `[hidden] { display: none !important; }` so we also need the `!important` here to be able to override the default hidden behavior on the sphinx rendered scikit-learn.org. See: https://github.com/scikit-learn/scikit-learn/issues/21755 */display: inline-block !important;position: relative;}#sk-container-id-1 div.sk-text-repr-fallback {display: none;}</style><div id=\"sk-container-id-1\" class=\"sk-top-container\"><div class=\"sk-text-repr-fallback\"><pre>Pipeline(steps=[(&#x27;preprocessor&#x27;,\n",
       "                 ColumnTransformer(transformers=[(&#x27;num&#x27;,\n",
       "                                                  SimpleImputer(strategy=&#x27;constant&#x27;),\n",
       "                                                  Index([&#x27;acc_now_delinq&#x27;, &#x27;acc_open_past_24mths&#x27;, &#x27;annual_inc&#x27;, &#x27;avg_cur_bal&#x27;,\n",
       "       &#x27;bc_open_to_buy&#x27;, &#x27;bc_util&#x27;, &#x27;chargeoff_within_12_mths&#x27;,\n",
       "       &#x27;collections_12_mths_ex_med&#x27;, &#x27;delinq_2yrs&#x27;, &#x27;delinq_amnt&#x27;, &#x27;dti&#x27;,\n",
       "       &#x27;fico_range_high&#x27;, &#x27;fico_range_low&#x27;, &#x27;funded_amnt&#x27;, &#x27;fun...\n",
       "      dtype=&#x27;object&#x27;)),\n",
       "                                                 (&#x27;cat&#x27;, TargetEncoder(),\n",
       "                                                  Index([&#x27;addr_state&#x27;, &#x27;debt_settlement_flag&#x27;, &#x27;earliest_cr_line&#x27;, &#x27;emp_length&#x27;,\n",
       "       &#x27;emp_title&#x27;, &#x27;grade&#x27;, &#x27;hardship_flag&#x27;, &#x27;home_ownership&#x27;,\n",
       "       &#x27;initial_list_status&#x27;, &#x27;issue_d&#x27;, &#x27;purpose&#x27;, &#x27;sub_grade&#x27;, &#x27;term&#x27;,\n",
       "       &#x27;verification_status&#x27;],\n",
       "      dtype=&#x27;object&#x27;))])),\n",
       "                (&#x27;model&#x27;,\n",
       "                 RandomForestClassifier(max_depth=15, n_estimators=50,\n",
       "                                        n_jobs=-1, random_state=42))])</pre><b>In a Jupyter environment, please rerun this cell to show the HTML representation or trust the notebook. <br />On GitHub, the HTML representation is unable to render, please try loading this page with nbviewer.org.</b></div><div class=\"sk-container\" hidden><div class=\"sk-item sk-dashed-wrapped\"><div class=\"sk-label-container\"><div class=\"sk-label sk-toggleable\"><input class=\"sk-toggleable__control sk-hidden--visually\" id=\"sk-estimator-id-1\" type=\"checkbox\" ><label for=\"sk-estimator-id-1\" class=\"sk-toggleable__label sk-toggleable__label-arrow\">Pipeline</label><div class=\"sk-toggleable__content\"><pre>Pipeline(steps=[(&#x27;preprocessor&#x27;,\n",
       "                 ColumnTransformer(transformers=[(&#x27;num&#x27;,\n",
       "                                                  SimpleImputer(strategy=&#x27;constant&#x27;),\n",
       "                                                  Index([&#x27;acc_now_delinq&#x27;, &#x27;acc_open_past_24mths&#x27;, &#x27;annual_inc&#x27;, &#x27;avg_cur_bal&#x27;,\n",
       "       &#x27;bc_open_to_buy&#x27;, &#x27;bc_util&#x27;, &#x27;chargeoff_within_12_mths&#x27;,\n",
       "       &#x27;collections_12_mths_ex_med&#x27;, &#x27;delinq_2yrs&#x27;, &#x27;delinq_amnt&#x27;, &#x27;dti&#x27;,\n",
       "       &#x27;fico_range_high&#x27;, &#x27;fico_range_low&#x27;, &#x27;funded_amnt&#x27;, &#x27;fun...\n",
       "      dtype=&#x27;object&#x27;)),\n",
       "                                                 (&#x27;cat&#x27;, TargetEncoder(),\n",
       "                                                  Index([&#x27;addr_state&#x27;, &#x27;debt_settlement_flag&#x27;, &#x27;earliest_cr_line&#x27;, &#x27;emp_length&#x27;,\n",
       "       &#x27;emp_title&#x27;, &#x27;grade&#x27;, &#x27;hardship_flag&#x27;, &#x27;home_ownership&#x27;,\n",
       "       &#x27;initial_list_status&#x27;, &#x27;issue_d&#x27;, &#x27;purpose&#x27;, &#x27;sub_grade&#x27;, &#x27;term&#x27;,\n",
       "       &#x27;verification_status&#x27;],\n",
       "      dtype=&#x27;object&#x27;))])),\n",
       "                (&#x27;model&#x27;,\n",
       "                 RandomForestClassifier(max_depth=15, n_estimators=50,\n",
       "                                        n_jobs=-1, random_state=42))])</pre></div></div></div><div class=\"sk-serial\"><div class=\"sk-item sk-dashed-wrapped\"><div class=\"sk-label-container\"><div class=\"sk-label sk-toggleable\"><input class=\"sk-toggleable__control sk-hidden--visually\" id=\"sk-estimator-id-2\" type=\"checkbox\" ><label for=\"sk-estimator-id-2\" class=\"sk-toggleable__label sk-toggleable__label-arrow\">preprocessor: ColumnTransformer</label><div class=\"sk-toggleable__content\"><pre>ColumnTransformer(transformers=[(&#x27;num&#x27;, SimpleImputer(strategy=&#x27;constant&#x27;),\n",
       "                                 Index([&#x27;acc_now_delinq&#x27;, &#x27;acc_open_past_24mths&#x27;, &#x27;annual_inc&#x27;, &#x27;avg_cur_bal&#x27;,\n",
       "       &#x27;bc_open_to_buy&#x27;, &#x27;bc_util&#x27;, &#x27;chargeoff_within_12_mths&#x27;,\n",
       "       &#x27;collections_12_mths_ex_med&#x27;, &#x27;delinq_2yrs&#x27;, &#x27;delinq_amnt&#x27;, &#x27;dti&#x27;,\n",
       "       &#x27;fico_range_high&#x27;, &#x27;fico_range_low&#x27;, &#x27;funded_amnt&#x27;, &#x27;funded_amnt_inv&#x27;,\n",
       "       &#x27;inq_last_6mths&#x27;, &#x27;...\n",
       "       &#x27;total_acc&#x27;, &#x27;total_bal_ex_mort&#x27;, &#x27;total_bc_limit&#x27;,\n",
       "       &#x27;total_il_high_credit_limit&#x27;, &#x27;total_rev_hi_lim&#x27;],\n",
       "      dtype=&#x27;object&#x27;)),\n",
       "                                (&#x27;cat&#x27;, TargetEncoder(),\n",
       "                                 Index([&#x27;addr_state&#x27;, &#x27;debt_settlement_flag&#x27;, &#x27;earliest_cr_line&#x27;, &#x27;emp_length&#x27;,\n",
       "       &#x27;emp_title&#x27;, &#x27;grade&#x27;, &#x27;hardship_flag&#x27;, &#x27;home_ownership&#x27;,\n",
       "       &#x27;initial_list_status&#x27;, &#x27;issue_d&#x27;, &#x27;purpose&#x27;, &#x27;sub_grade&#x27;, &#x27;term&#x27;,\n",
       "       &#x27;verification_status&#x27;],\n",
       "      dtype=&#x27;object&#x27;))])</pre></div></div></div><div class=\"sk-parallel\"><div class=\"sk-parallel-item\"><div class=\"sk-item\"><div class=\"sk-label-container\"><div class=\"sk-label sk-toggleable\"><input class=\"sk-toggleable__control sk-hidden--visually\" id=\"sk-estimator-id-3\" type=\"checkbox\" ><label for=\"sk-estimator-id-3\" class=\"sk-toggleable__label sk-toggleable__label-arrow\">num</label><div class=\"sk-toggleable__content\"><pre>Index([&#x27;acc_now_delinq&#x27;, &#x27;acc_open_past_24mths&#x27;, &#x27;annual_inc&#x27;, &#x27;avg_cur_bal&#x27;,\n",
       "       &#x27;bc_open_to_buy&#x27;, &#x27;bc_util&#x27;, &#x27;chargeoff_within_12_mths&#x27;,\n",
       "       &#x27;collections_12_mths_ex_med&#x27;, &#x27;delinq_2yrs&#x27;, &#x27;delinq_amnt&#x27;, &#x27;dti&#x27;,\n",
       "       &#x27;fico_range_high&#x27;, &#x27;fico_range_low&#x27;, &#x27;funded_amnt&#x27;, &#x27;funded_amnt_inv&#x27;,\n",
       "       &#x27;inq_last_6mths&#x27;, &#x27;installment&#x27;, &#x27;int_rate&#x27;, &#x27;loan_amnt&#x27;,\n",
       "       &#x27;mo_sin_old_il_acct&#x27;, &#x27;mo_sin_old_rev_tl_op&#x27;, &#x27;mo_sin_rcnt_rev_tl_op&#x27;,\n",
       "       &#x27;mo_sin_rcnt_tl&#x27;, &#x27;mort_acc&#x27;, &#x27;mths_since_recent_bc&#x27;,\n",
       "       &#x27;mths_since_recent_inq&#x27;, &#x27;num_accts_ever_120_pd&#x27;, &#x27;num_actv_bc_tl&#x27;,\n",
       "       &#x27;num_actv_rev_tl&#x27;, &#x27;num_bc_sats&#x27;, &#x27;num_bc_tl&#x27;, &#x27;num_il_tl&#x27;,\n",
       "       &#x27;num_op_rev_tl&#x27;, &#x27;num_rev_accts&#x27;, &#x27;num_rev_tl_bal_gt_0&#x27;, &#x27;num_sats&#x27;,\n",
       "       &#x27;num_tl_120dpd_2m&#x27;, &#x27;num_tl_30dpd&#x27;, &#x27;num_tl_90g_dpd_24m&#x27;,\n",
       "       &#x27;num_tl_op_past_12m&#x27;, &#x27;open_acc&#x27;, &#x27;pct_tl_nvr_dlq&#x27;, &#x27;percent_bc_gt_75&#x27;,\n",
       "       &#x27;pub_rec&#x27;, &#x27;pub_rec_bankruptcies&#x27;, &#x27;revol_bal&#x27;, &#x27;revol_util&#x27;,\n",
       "       &#x27;tax_liens&#x27;, &#x27;tot_coll_amt&#x27;, &#x27;tot_cur_bal&#x27;, &#x27;tot_hi_cred_lim&#x27;,\n",
       "       &#x27;total_acc&#x27;, &#x27;total_bal_ex_mort&#x27;, &#x27;total_bc_limit&#x27;,\n",
       "       &#x27;total_il_high_credit_limit&#x27;, &#x27;total_rev_hi_lim&#x27;],\n",
       "      dtype=&#x27;object&#x27;)</pre></div></div></div><div class=\"sk-serial\"><div class=\"sk-item\"><div class=\"sk-estimator sk-toggleable\"><input class=\"sk-toggleable__control sk-hidden--visually\" id=\"sk-estimator-id-4\" type=\"checkbox\" ><label for=\"sk-estimator-id-4\" class=\"sk-toggleable__label sk-toggleable__label-arrow\">SimpleImputer</label><div class=\"sk-toggleable__content\"><pre>SimpleImputer(strategy=&#x27;constant&#x27;)</pre></div></div></div></div></div></div><div class=\"sk-parallel-item\"><div class=\"sk-item\"><div class=\"sk-label-container\"><div class=\"sk-label sk-toggleable\"><input class=\"sk-toggleable__control sk-hidden--visually\" id=\"sk-estimator-id-5\" type=\"checkbox\" ><label for=\"sk-estimator-id-5\" class=\"sk-toggleable__label sk-toggleable__label-arrow\">cat</label><div class=\"sk-toggleable__content\"><pre>Index([&#x27;addr_state&#x27;, &#x27;debt_settlement_flag&#x27;, &#x27;earliest_cr_line&#x27;, &#x27;emp_length&#x27;,\n",
       "       &#x27;emp_title&#x27;, &#x27;grade&#x27;, &#x27;hardship_flag&#x27;, &#x27;home_ownership&#x27;,\n",
       "       &#x27;initial_list_status&#x27;, &#x27;issue_d&#x27;, &#x27;purpose&#x27;, &#x27;sub_grade&#x27;, &#x27;term&#x27;,\n",
       "       &#x27;verification_status&#x27;],\n",
       "      dtype=&#x27;object&#x27;)</pre></div></div></div><div class=\"sk-serial\"><div class=\"sk-item\"><div class=\"sk-estimator sk-toggleable\"><input class=\"sk-toggleable__control sk-hidden--visually\" id=\"sk-estimator-id-6\" type=\"checkbox\" ><label for=\"sk-estimator-id-6\" class=\"sk-toggleable__label sk-toggleable__label-arrow\">TargetEncoder</label><div class=\"sk-toggleable__content\"><pre>TargetEncoder()</pre></div></div></div></div></div></div></div></div><div class=\"sk-item\"><div class=\"sk-estimator sk-toggleable\"><input class=\"sk-toggleable__control sk-hidden--visually\" id=\"sk-estimator-id-7\" type=\"checkbox\" ><label for=\"sk-estimator-id-7\" class=\"sk-toggleable__label sk-toggleable__label-arrow\">RandomForestClassifier</label><div class=\"sk-toggleable__content\"><pre>RandomForestClassifier(max_depth=15, n_estimators=50, n_jobs=-1,\n",
       "                       random_state=42)</pre></div></div></div></div></div></div></div>"
      ],
      "text/plain": [
       "Pipeline(steps=[('preprocessor',\n",
       "                 ColumnTransformer(transformers=[('num',\n",
       "                                                  SimpleImputer(strategy='constant'),\n",
       "                                                  Index(['acc_now_delinq', 'acc_open_past_24mths', 'annual_inc', 'avg_cur_bal',\n",
       "       'bc_open_to_buy', 'bc_util', 'chargeoff_within_12_mths',\n",
       "       'collections_12_mths_ex_med', 'delinq_2yrs', 'delinq_amnt', 'dti',\n",
       "       'fico_range_high', 'fico_range_low', 'funded_amnt', 'fun...\n",
       "      dtype='object')),\n",
       "                                                 ('cat', TargetEncoder(),\n",
       "                                                  Index(['addr_state', 'debt_settlement_flag', 'earliest_cr_line', 'emp_length',\n",
       "       'emp_title', 'grade', 'hardship_flag', 'home_ownership',\n",
       "       'initial_list_status', 'issue_d', 'purpose', 'sub_grade', 'term',\n",
       "       'verification_status'],\n",
       "      dtype='object'))])),\n",
       "                ('model',\n",
       "                 RandomForestClassifier(max_depth=15, n_estimators=50,\n",
       "                                        n_jobs=-1, random_state=42))])"
      ]
     },
     "execution_count": 26,
     "metadata": {},
     "output_type": "execute_result"
    }
   ],
   "source": [
    "# Create pipeline with target encoding\n",
    "my_pipeline = Pipeline(steps=[\n",
    "    ('preprocessor', preprocessor),\n",
    "    ('model', RandomForestClassifier(n_estimators=50, max_depth=15, n_jobs=-1, random_state=42))\n",
    "])\n",
    "\n",
    "# Fit the pipeline\n",
    "my_pipeline.fit(X_train, y_train)\n",
    "\n"
   ]
  },
  {
   "cell_type": "code",
   "execution_count": 27,
   "id": "321c9bbb",
   "metadata": {
    "execution": {
     "iopub.execute_input": "2025-03-05T10:16:45.678749Z",
     "iopub.status.busy": "2025-03-05T10:16:45.678279Z",
     "iopub.status.idle": "2025-03-05T10:16:45.685702Z",
     "shell.execute_reply": "2025-03-05T10:16:45.684547Z"
    },
    "papermill": {
     "duration": 0.021514,
     "end_time": "2025-03-05T10:16:45.687610",
     "exception": false,
     "start_time": "2025-03-05T10:16:45.666096",
     "status": "completed"
    },
    "tags": []
   },
   "outputs": [
    {
     "name": "stdout",
     "output_type": "stream",
     "text": [
      "Transformed Feature Names: ['acc_now_delinq', 'acc_open_past_24mths', 'annual_inc', 'avg_cur_bal', 'bc_open_to_buy', 'bc_util', 'chargeoff_within_12_mths', 'collections_12_mths_ex_med', 'delinq_2yrs', 'delinq_amnt', 'dti', 'fico_range_high', 'fico_range_low', 'funded_amnt', 'funded_amnt_inv', 'inq_last_6mths', 'installment', 'int_rate', 'loan_amnt', 'mo_sin_old_il_acct', 'mo_sin_old_rev_tl_op', 'mo_sin_rcnt_rev_tl_op', 'mo_sin_rcnt_tl', 'mort_acc', 'mths_since_recent_bc', 'mths_since_recent_inq', 'num_accts_ever_120_pd', 'num_actv_bc_tl', 'num_actv_rev_tl', 'num_bc_sats', 'num_bc_tl', 'num_il_tl', 'num_op_rev_tl', 'num_rev_accts', 'num_rev_tl_bal_gt_0', 'num_sats', 'num_tl_120dpd_2m', 'num_tl_30dpd', 'num_tl_90g_dpd_24m', 'num_tl_op_past_12m', 'open_acc', 'pct_tl_nvr_dlq', 'percent_bc_gt_75', 'pub_rec', 'pub_rec_bankruptcies', 'revol_bal', 'revol_util', 'tax_liens', 'tot_coll_amt', 'tot_cur_bal', 'tot_hi_cred_lim', 'total_acc', 'total_bal_ex_mort', 'total_bc_limit', 'total_il_high_credit_limit', 'total_rev_hi_lim', 'addr_state', 'debt_settlement_flag', 'earliest_cr_line', 'emp_length', 'emp_title', 'grade', 'hardship_flag', 'home_ownership', 'initial_list_status', 'issue_d', 'purpose', 'sub_grade', 'term', 'verification_status']\n"
     ]
    }
   ],
   "source": [
    "# Extract transformed feature names (since target encoding keeps original names)\n",
    "transformed_feature_names = preprocessor.get_feature_names_out() # Since target encoding doesn't change names\n",
    "cleaned_feature_names = [name.split(\"__\")[-1] for name in transformed_feature_names]\n",
    "print(\"Transformed Feature Names:\", cleaned_feature_names)"
   ]
  },
  {
   "cell_type": "code",
   "execution_count": 28,
   "id": "fd68bb76",
   "metadata": {
    "execution": {
     "iopub.execute_input": "2025-03-05T10:16:45.712765Z",
     "iopub.status.busy": "2025-03-05T10:16:45.712268Z",
     "iopub.status.idle": "2025-03-05T10:16:45.717285Z",
     "shell.execute_reply": "2025-03-05T10:16:45.716175Z"
    },
    "papermill": {
     "duration": 0.020635,
     "end_time": "2025-03-05T10:16:45.719206",
     "exception": false,
     "start_time": "2025-03-05T10:16:45.698571",
     "status": "completed"
    },
    "tags": []
   },
   "outputs": [],
   "source": [
    "import pandas as pd\n",
    "import numpy as np\n",
    "import matplotlib.pyplot as plt"
   ]
  },
  {
   "cell_type": "code",
   "execution_count": 29,
   "id": "edfbc23f",
   "metadata": {
    "execution": {
     "iopub.execute_input": "2025-03-05T10:16:45.743568Z",
     "iopub.status.busy": "2025-03-05T10:16:45.743155Z",
     "iopub.status.idle": "2025-03-05T10:17:00.097724Z",
     "shell.execute_reply": "2025-03-05T10:17:00.096627Z"
    },
    "papermill": {
     "duration": 14.36808,
     "end_time": "2025-03-05T10:17:00.099384",
     "exception": false,
     "start_time": "2025-03-05T10:16:45.731304",
     "status": "completed"
    },
    "tags": []
   },
   "outputs": [
    {
     "data": {
      "image/png": "[encoded data removed]",
      "text/plain": [
       "<Figure size 1200x600 with 1 Axes>"
      ]
     },
     "metadata": {},
     "output_type": "display_data"
    }
   ],
   "source": [
    "import matplotlib.pyplot as plt\n",
    "\n",
    "# Step 1: Extract feature importance\n",
    "feature_importance = my_pipeline.named_steps['model'].feature_importances_\n",
    "\n",
    "# Step 2: Create a DataFrame with feature names and their importance scores\n",
    "feature_df = pd.DataFrame({'Feature': transformed_feature_names, 'Importance': feature_importance})\n",
    "\n",
    "# Step 3: Sort by importance and get the top 20 features\n",
    "top_20_features = feature_df.sort_values(by='Importance', ascending=False).head(20)['Feature'].tolist()\n",
    "\n",
    "# Clean feature names to remove prefix (num__ or cat__)\n",
    "cleaned_feature_names = [name.split(\"__\")[-1] for name in top_20_features]\n",
    "\n",
    "# Step 4: Check if all top 20 features exist in X_train\n",
    "available_features = [col for col in cleaned_feature_names if col in X_train.columns]\n",
    "\n",
    "# Step 5: Filter X_train to keep only the available top 20 features\n",
    "X_train_filtered = X_train[available_features]\n",
    "\n",
    "# Step 6: Save the filtered DataFrame as CSV\n",
    "X_train_filtered.to_csv('X_train_top_20_features.csv', index=False)\n",
    "\n",
    "# ✅ Fix the Bar Chart\n",
    "plt.figure(figsize=(12, 6))\n",
    "\n",
    "# Map original transformed feature names to their cleaned names for plotting\n",
    "importance_scores = [feature_df[feature_df['Feature'] == orig]['Importance'].values[0] for orig in top_20_features]\n",
    "\n",
    "plt.barh(cleaned_feature_names, importance_scores, color='royalblue')\n",
    "plt.xlabel(\"Feature Importance Score\")\n",
    "plt.ylabel(\"Feature Names\")\n",
    "plt.title(\"Top 20 Important Features (Available in X_train)\")\n",
    "plt.gca().invert_yaxis()  # Invert for better readability\n",
    "plt.show()\n"
   ]
  },
  {
   "cell_type": "code",
   "execution_count": 30,
   "id": "117ffb6c",
   "metadata": {
    "execution": {
     "iopub.execute_input": "2025-03-05T10:17:00.125520Z",
     "iopub.status.busy": "2025-03-05T10:17:00.125142Z",
     "iopub.status.idle": "2025-03-05T10:17:03.296010Z",
     "shell.execute_reply": "2025-03-05T10:17:03.293821Z"
    },
    "papermill": {
     "duration": 3.186648,
     "end_time": "2025-03-05T10:17:03.298860",
     "exception": false,
     "start_time": "2025-03-05T10:17:00.112212",
     "status": "completed"
    },
    "tags": []
   },
   "outputs": [
    {
     "data": {
      "text/html": [
       "<div>\n",
       "<style scoped>\n",
       "    .dataframe tbody tr th:only-of-type {\n",
       "        vertical-align: middle;\n",
       "    }\n",
       "\n",
       "    .dataframe tbody tr th {\n",
       "        vertical-align: top;\n",
       "    }\n",
       "\n",
       "    .dataframe thead th {\n",
       "        text-align: right;\n",
       "    }\n",
       "</style>\n",
       "<table border=\"1\" class=\"dataframe\">\n",
       "  <thead>\n",
       "    <tr style=\"text-align: right;\">\n",
       "      <th></th>\n",
       "      <th>emp_title</th>\n",
       "      <th>debt_settlement_flag</th>\n",
       "      <th>sub_grade</th>\n",
       "      <th>int_rate</th>\n",
       "      <th>grade</th>\n",
       "      <th>term</th>\n",
       "      <th>issue_d</th>\n",
       "      <th>dti</th>\n",
       "      <th>fico_range_low</th>\n",
       "      <th>fico_range_high</th>\n",
       "      <th>avg_cur_bal</th>\n",
       "      <th>tot_hi_cred_lim</th>\n",
       "      <th>installment</th>\n",
       "      <th>funded_amnt</th>\n",
       "      <th>funded_amnt_inv</th>\n",
       "      <th>loan_amnt</th>\n",
       "      <th>mo_sin_old_rev_tl_op</th>\n",
       "      <th>annual_inc</th>\n",
       "      <th>tot_cur_bal</th>\n",
       "      <th>earliest_cr_line</th>\n",
       "    </tr>\n",
       "  </thead>\n",
       "  <tbody>\n",
       "    <tr>\n",
       "      <th>0</th>\n",
       "      <td>Musician - Organist</td>\n",
       "      <td>N</td>\n",
       "      <td>B5</td>\n",
       "      <td>11.49</td>\n",
       "      <td>B</td>\n",
       "      <td>36 months</td>\n",
       "      <td>Nov-2015</td>\n",
       "      <td>19.41</td>\n",
       "      <td>660.0</td>\n",
       "      <td>664.0</td>\n",
       "      <td>4645.0</td>\n",
       "      <td>31455.0</td>\n",
       "      <td>267.90</td>\n",
       "      <td>8125.0</td>\n",
       "      <td>8125.0</td>\n",
       "      <td>8125.0</td>\n",
       "      <td>199.0</td>\n",
       "      <td>34000.0</td>\n",
       "      <td>23227.0</td>\n",
       "      <td>Apr-1999</td>\n",
       "    </tr>\n",
       "    <tr>\n",
       "      <th>1</th>\n",
       "      <td>Fire Lieutenant</td>\n",
       "      <td>N</td>\n",
       "      <td>C5</td>\n",
       "      <td>16.02</td>\n",
       "      <td>C</td>\n",
       "      <td>60 months</td>\n",
       "      <td>Sep-2017</td>\n",
       "      <td>7.87</td>\n",
       "      <td>790.0</td>\n",
       "      <td>794.0</td>\n",
       "      <td>27084.0</td>\n",
       "      <td>158596.0</td>\n",
       "      <td>729.87</td>\n",
       "      <td>30000.0</td>\n",
       "      <td>30000.0</td>\n",
       "      <td>30000.0</td>\n",
       "      <td>158.0</td>\n",
       "      <td>65000.0</td>\n",
       "      <td>135421.0</td>\n",
       "      <td>Jun-2004</td>\n",
       "    </tr>\n",
       "    <tr>\n",
       "      <th>2</th>\n",
       "      <td>Driver / Operator</td>\n",
       "      <td>N</td>\n",
       "      <td>B1</td>\n",
       "      <td>9.44</td>\n",
       "      <td>B</td>\n",
       "      <td>36 months</td>\n",
       "      <td>Jan-2018</td>\n",
       "      <td>6.25</td>\n",
       "      <td>790.0</td>\n",
       "      <td>794.0</td>\n",
       "      <td>730.0</td>\n",
       "      <td>37710.0</td>\n",
       "      <td>128.02</td>\n",
       "      <td>4000.0</td>\n",
       "      <td>4000.0</td>\n",
       "      <td>4000.0</td>\n",
       "      <td>129.0</td>\n",
       "      <td>62000.0</td>\n",
       "      <td>3649.0</td>\n",
       "      <td>Sep-1997</td>\n",
       "    </tr>\n",
       "    <tr>\n",
       "      <th>3</th>\n",
       "      <td>sr computer operator</td>\n",
       "      <td>N</td>\n",
       "      <td>A5</td>\n",
       "      <td>7.89</td>\n",
       "      <td>A</td>\n",
       "      <td>36 months</td>\n",
       "      <td>Mar-2016</td>\n",
       "      <td>36.30</td>\n",
       "      <td>715.0</td>\n",
       "      <td>719.0</td>\n",
       "      <td>6385.0</td>\n",
       "      <td>109327.0</td>\n",
       "      <td>312.86</td>\n",
       "      <td>10000.0</td>\n",
       "      <td>10000.0</td>\n",
       "      <td>10000.0</td>\n",
       "      <td>114.0</td>\n",
       "      <td>40000.0</td>\n",
       "      <td>76622.0</td>\n",
       "      <td>Sep-1995</td>\n",
       "    </tr>\n",
       "    <tr>\n",
       "      <th>4</th>\n",
       "      <td>Life Enrichment Aide</td>\n",
       "      <td>N</td>\n",
       "      <td>B3</td>\n",
       "      <td>10.42</td>\n",
       "      <td>B</td>\n",
       "      <td>36 months</td>\n",
       "      <td>Aug-2017</td>\n",
       "      <td>19.00</td>\n",
       "      <td>720.0</td>\n",
       "      <td>724.0</td>\n",
       "      <td>424.0</td>\n",
       "      <td>20842.0</td>\n",
       "      <td>227.26</td>\n",
       "      <td>7000.0</td>\n",
       "      <td>7000.0</td>\n",
       "      <td>7000.0</td>\n",
       "      <td>123.0</td>\n",
       "      <td>12000.0</td>\n",
       "      <td>4241.0</td>\n",
       "      <td>May-2007</td>\n",
       "    </tr>\n",
       "    <tr>\n",
       "      <th>5</th>\n",
       "      <td>NaN</td>\n",
       "      <td>N</td>\n",
       "      <td>E2</td>\n",
       "      <td>24.37</td>\n",
       "      <td>E</td>\n",
       "      <td>36 months</td>\n",
       "      <td>Aug-2018</td>\n",
       "      <td>21.79</td>\n",
       "      <td>695.0</td>\n",
       "      <td>699.0</td>\n",
       "      <td>2958.0</td>\n",
       "      <td>31100.0</td>\n",
       "      <td>591.42</td>\n",
       "      <td>15000.0</td>\n",
       "      <td>15000.0</td>\n",
       "      <td>15000.0</td>\n",
       "      <td>57.0</td>\n",
       "      <td>20000.0</td>\n",
       "      <td>14788.0</td>\n",
       "      <td>Nov-2013</td>\n",
       "    </tr>\n",
       "    <tr>\n",
       "      <th>6</th>\n",
       "      <td>NC Dept of Health and Human Services</td>\n",
       "      <td>N</td>\n",
       "      <td>B5</td>\n",
       "      <td>13.05</td>\n",
       "      <td>B</td>\n",
       "      <td>36 months</td>\n",
       "      <td>Jul-2013</td>\n",
       "      <td>30.91</td>\n",
       "      <td>700.0</td>\n",
       "      <td>704.0</td>\n",
       "      <td>8772.0</td>\n",
       "      <td>96198.0</td>\n",
       "      <td>337.19</td>\n",
       "      <td>10000.0</td>\n",
       "      <td>10000.0</td>\n",
       "      <td>10000.0</td>\n",
       "      <td>163.0</td>\n",
       "      <td>75000.0</td>\n",
       "      <td>78951.0</td>\n",
       "      <td>Feb-2000</td>\n",
       "    </tr>\n",
       "    <tr>\n",
       "      <th>7</th>\n",
       "      <td>Desktop Support Technician</td>\n",
       "      <td>N</td>\n",
       "      <td>D5</td>\n",
       "      <td>21.49</td>\n",
       "      <td>D</td>\n",
       "      <td>60 months</td>\n",
       "      <td>Nov-2016</td>\n",
       "      <td>32.54</td>\n",
       "      <td>690.0</td>\n",
       "      <td>694.0</td>\n",
       "      <td>16323.0</td>\n",
       "      <td>431336.0</td>\n",
       "      <td>573.93</td>\n",
       "      <td>21000.0</td>\n",
       "      <td>21000.0</td>\n",
       "      <td>21000.0</td>\n",
       "      <td>81.0</td>\n",
       "      <td>60000.0</td>\n",
       "      <td>391763.0</td>\n",
       "      <td>Jul-1998</td>\n",
       "    </tr>\n",
       "    <tr>\n",
       "      <th>8</th>\n",
       "      <td>Landman</td>\n",
       "      <td>N</td>\n",
       "      <td>B5</td>\n",
       "      <td>11.48</td>\n",
       "      <td>B</td>\n",
       "      <td>36 months</td>\n",
       "      <td>Jan-2016</td>\n",
       "      <td>30.66</td>\n",
       "      <td>725.0</td>\n",
       "      <td>729.0</td>\n",
       "      <td>12588.0</td>\n",
       "      <td>296089.0</td>\n",
       "      <td>329.67</td>\n",
       "      <td>10000.0</td>\n",
       "      <td>10000.0</td>\n",
       "      <td>10000.0</td>\n",
       "      <td>256.0</td>\n",
       "      <td>140000.0</td>\n",
       "      <td>213989.0</td>\n",
       "      <td>Sep-1994</td>\n",
       "    </tr>\n",
       "    <tr>\n",
       "      <th>9</th>\n",
       "      <td>NaN</td>\n",
       "      <td>N</td>\n",
       "      <td>E3</td>\n",
       "      <td>21.49</td>\n",
       "      <td>E</td>\n",
       "      <td>60 months</td>\n",
       "      <td>Nov-2012</td>\n",
       "      <td>3.77</td>\n",
       "      <td>705.0</td>\n",
       "      <td>709.0</td>\n",
       "      <td>28624.0</td>\n",
       "      <td>363263.0</td>\n",
       "      <td>884.12</td>\n",
       "      <td>32350.0</td>\n",
       "      <td>32350.0</td>\n",
       "      <td>32350.0</td>\n",
       "      <td>211.0</td>\n",
       "      <td>285000.0</td>\n",
       "      <td>314869.0</td>\n",
       "      <td>Jun-1995</td>\n",
       "    </tr>\n",
       "  </tbody>\n",
       "</table>\n",
       "</div>"
      ],
      "text/plain": [
       "                              emp_title debt_settlement_flag sub_grade  \\\n",
       "0                   Musician - Organist                    N        B5   \n",
       "1                       Fire Lieutenant                    N        C5   \n",
       "2                     Driver / Operator                    N        B1   \n",
       "3                  sr computer operator                    N        A5   \n",
       "4                  Life Enrichment Aide                    N        B3   \n",
       "5                                   NaN                    N        E2   \n",
       "6  NC Dept of Health and Human Services                    N        B5   \n",
       "7            Desktop Support Technician                    N        D5   \n",
       "8                               Landman                    N        B5   \n",
       "9                                   NaN                    N        E3   \n",
       "\n",
       "   int_rate grade        term   issue_d    dti  fico_range_low  \\\n",
       "0     11.49     B   36 months  Nov-2015  19.41           660.0   \n",
       "1     16.02     C   60 months  Sep-2017   7.87           790.0   \n",
       "2      9.44     B   36 months  Jan-2018   6.25           790.0   \n",
       "3      7.89     A   36 months  Mar-2016  36.30           715.0   \n",
       "4     10.42     B   36 months  Aug-2017  19.00           720.0   \n",
       "5     24.37     E   36 months  Aug-2018  21.79           695.0   \n",
       "6     13.05     B   36 months  Jul-2013  30.91           700.0   \n",
       "7     21.49     D   60 months  Nov-2016  32.54           690.0   \n",
       "8     11.48     B   36 months  Jan-2016  30.66           725.0   \n",
       "9     21.49     E   60 months  Nov-2012   3.77           705.0   \n",
       "\n",
       "   fico_range_high  avg_cur_bal  tot_hi_cred_lim  installment  funded_amnt  \\\n",
       "0            664.0       4645.0          31455.0       267.90       8125.0   \n",
       "1            794.0      27084.0         158596.0       729.87      30000.0   \n",
       "2            794.0        730.0          37710.0       128.02       4000.0   \n",
       "3            719.0       6385.0         109327.0       312.86      10000.0   \n",
       "4            724.0        424.0          20842.0       227.26       7000.0   \n",
       "5            699.0       2958.0          31100.0       591.42      15000.0   \n",
       "6            704.0       8772.0          96198.0       337.19      10000.0   \n",
       "7            694.0      16323.0         431336.0       573.93      21000.0   \n",
       "8            729.0      12588.0         296089.0       329.67      10000.0   \n",
       "9            709.0      28624.0         363263.0       884.12      32350.0   \n",
       "\n",
       "   funded_amnt_inv  loan_amnt  mo_sin_old_rev_tl_op  annual_inc  tot_cur_bal  \\\n",
       "0           8125.0     8125.0                 199.0     34000.0      23227.0   \n",
       "1          30000.0    30000.0                 158.0     65000.0     135421.0   \n",
       "2           4000.0     4000.0                 129.0     62000.0       3649.0   \n",
       "3          10000.0    10000.0                 114.0     40000.0      76622.0   \n",
       "4           7000.0     7000.0                 123.0     12000.0       4241.0   \n",
       "5          15000.0    15000.0                  57.0     20000.0      14788.0   \n",
       "6          10000.0    10000.0                 163.0     75000.0      78951.0   \n",
       "7          21000.0    21000.0                  81.0     60000.0     391763.0   \n",
       "8          10000.0    10000.0                 256.0    140000.0     213989.0   \n",
       "9          32350.0    32350.0                 211.0    285000.0     314869.0   \n",
       "\n",
       "  earliest_cr_line  \n",
       "0         Apr-1999  \n",
       "1         Jun-2004  \n",
       "2         Sep-1997  \n",
       "3         Sep-1995  \n",
       "4         May-2007  \n",
       "5         Nov-2013  \n",
       "6         Feb-2000  \n",
       "7         Jul-1998  \n",
       "8         Sep-1994  \n",
       "9         Jun-1995  "
      ]
     },
     "execution_count": 30,
     "metadata": {},
     "output_type": "execute_result"
    }
   ],
   "source": [
    "new_df = pd.read_csv('X_train_top_20_features.csv')\n",
    "new_df.head(10)\n"
   ]
  },
  {
   "cell_type": "code",
   "execution_count": 31,
   "id": "afb24db9",
   "metadata": {
    "execution": {
     "iopub.execute_input": "2025-03-05T10:17:03.326032Z",
     "iopub.status.busy": "2025-03-05T10:17:03.325622Z",
     "iopub.status.idle": "2025-03-05T10:17:03.331073Z",
     "shell.execute_reply": "2025-03-05T10:17:03.329922Z"
    },
    "papermill": {
     "duration": 0.021624,
     "end_time": "2025-03-05T10:17:03.333541",
     "exception": false,
     "start_time": "2025-03-05T10:17:03.311917",
     "status": "completed"
    },
    "tags": []
   },
   "outputs": [],
   "source": [
    "from sklearn.pipeline import Pipeline\n",
    "from sklearn.impute import SimpleImputer\n",
    "from category_encoders import TargetEncoder\n",
    "from sklearn.ensemble import RandomForestClassifier\n",
    "from sklearn.compose import ColumnTransformer\n",
    "from sklearn.model_selection import GridSearchCV"
   ]
  },
  {
   "cell_type": "code",
   "execution_count": 32,
   "id": "db07edb9",
   "metadata": {
    "execution": {
     "iopub.execute_input": "2025-03-05T10:17:03.360735Z",
     "iopub.status.busy": "2025-03-05T10:17:03.360346Z",
     "iopub.status.idle": "2025-03-05T10:17:03.560024Z",
     "shell.execute_reply": "2025-03-05T10:17:03.558829Z"
    },
    "papermill": {
     "duration": 0.215471,
     "end_time": "2025-03-05T10:17:03.561870",
     "exception": false,
     "start_time": "2025-03-05T10:17:03.346399",
     "status": "completed"
    },
    "tags": []
   },
   "outputs": [
    {
     "name": "stdout",
     "output_type": "stream",
     "text": [
      "                        emp_title debt_settlement_flag sub_grade  int_rate  \\\n",
      "75146         Musician - Organist                    N        B5     11.49   \n",
      "564052            Fire Lieutenant                    N        C5     16.02   \n",
      "509162          Driver / Operator                    N        B1      9.44   \n",
      "1020232      sr computer operator                    N        A5      7.89   \n",
      "572511       Life Enrichment Aide                    N        B3     10.42   \n",
      "...                           ...                  ...       ...       ...   \n",
      "125303                 Accountant                    N        B4     10.99   \n",
      "292629        Sr. Project Manager                    N        A5      7.89   \n",
      "149897               Poker Dealer                    N        B3      9.99   \n",
      "1116567                Bookkepper                    N        D1     15.77   \n",
      "138529   Senior Account Executive                    N        A1      5.32   \n",
      "\n",
      "        grade        term   issue_d    dti  fico_range_low  fico_range_high  \\\n",
      "75146       B   36 months  Nov-2015  19.41           660.0            664.0   \n",
      "564052      C   60 months  Sep-2017   7.87           790.0            794.0   \n",
      "509162      B   36 months  Jan-2018   6.25           790.0            794.0   \n",
      "1020232     A   36 months  Mar-2016  36.30           715.0            719.0   \n",
      "572511      B   36 months  Aug-2017  19.00           720.0            724.0   \n",
      "...       ...         ...       ...    ...             ...              ...   \n",
      "125303      B   36 months  Oct-2015  18.45           665.0            669.0   \n",
      "292629      A   36 months  May-2015  10.56           685.0            689.0   \n",
      "149897      B   36 months  Sep-2015  23.57           710.0            714.0   \n",
      "1116567     D   36 months  Jan-2016  10.99           680.0            684.0   \n",
      "138529      A   36 months  Sep-2015  10.93           760.0            764.0   \n",
      "\n",
      "         avg_cur_bal  tot_hi_cred_lim  installment  funded_amnt  \\\n",
      "75146         4645.0          31455.0       267.90       8125.0   \n",
      "564052       27084.0         158596.0       729.87      30000.0   \n",
      "509162         730.0          37710.0       128.02       4000.0   \n",
      "1020232       6385.0         109327.0       312.86      10000.0   \n",
      "572511         424.0          20842.0       227.26       7000.0   \n",
      "...              ...              ...          ...          ...   \n",
      "125303       11827.0         143549.0       687.42      21000.0   \n",
      "292629       21928.0         634641.0       375.43      12000.0   \n",
      "149897       17767.0         210033.0       580.73      18000.0   \n",
      "1116567       4010.0          54915.0       196.25       5600.0   \n",
      "138529       56464.0         499854.0       361.38      12000.0   \n",
      "\n",
      "         funded_amnt_inv  loan_amnt  mo_sin_old_rev_tl_op  annual_inc  \\\n",
      "75146             8125.0     8125.0                 199.0     34000.0   \n",
      "564052           30000.0    30000.0                 158.0     65000.0   \n",
      "509162            4000.0     4000.0                 129.0     62000.0   \n",
      "1020232          10000.0    10000.0                 114.0     40000.0   \n",
      "572511            7000.0     7000.0                 123.0     12000.0   \n",
      "...                  ...        ...                   ...         ...   \n",
      "125303           21000.0    21000.0                  88.0     60000.0   \n",
      "292629           12000.0    12000.0                 395.0    100000.0   \n",
      "149897           17975.0    18000.0                 114.0     45000.0   \n",
      "1116567           5600.0     5600.0                 151.0     38000.0   \n",
      "138529           12000.0    12000.0                 170.0     73000.0   \n",
      "\n",
      "         tot_cur_bal earliest_cr_line  \n",
      "75146        23227.0         Apr-1999  \n",
      "564052      135421.0         Jun-2004  \n",
      "509162        3649.0         Sep-1997  \n",
      "1020232      76622.0         Sep-1995  \n",
      "572511        4241.0         May-2007  \n",
      "...              ...              ...  \n",
      "125303      118270.0         Sep-2006  \n",
      "292629      504347.0         Jun-1982  \n",
      "149897      177674.0         Feb-2006  \n",
      "1116567      52129.0         May-2003  \n",
      "138529      451709.0         Jul-2001  \n",
      "\n",
      "[970099 rows x 20 columns]\n",
      "                           emp_title debt_settlement_flag sub_grade  int_rate  \\\n",
      "1174878                  Agent owner                    N        A4      7.69   \n",
      "376517                       Laborer                    N        B5     11.53   \n",
      "1027775  Long-term care coordinator                     N        C2     12.99   \n",
      "66214                   Construction                    N        C4     13.67   \n",
      "1814477                     Pixel Sf                    N        D4     19.52   \n",
      "...                              ...                  ...       ...       ...   \n",
      "1092918                  Electrician                    N        C4     13.99   \n",
      "1119816     Asst Director of Finance                    N        E4     20.99   \n",
      "1104337                 Area Manager                    N        C4     13.99   \n",
      "674450              IT Systems Spec.                    N        A4      7.39   \n",
      "1070088                     Enlisted                    N        E5     22.45   \n",
      "\n",
      "        grade        term   issue_d    dti  fico_range_low  fico_range_high  \\\n",
      "1174878     A   36 months  Oct-2014  25.93           705.0            709.0   \n",
      "376517      B   36 months  Feb-2015  21.30           670.0            674.0   \n",
      "1027775     C   36 months  Mar-2016  22.61           670.0            674.0   \n",
      "66214       C   36 months  Nov-2015   8.27           660.0            664.0   \n",
      "1814477     D   36 months  Aug-2013   2.83           670.0            674.0   \n",
      "...       ...         ...       ...    ...             ...              ...   \n",
      "1092918     C   60 months  Jan-2016  22.02           740.0            744.0   \n",
      "1119816     E   60 months  Dec-2014  22.59           670.0            674.0   \n",
      "1104337     C   36 months  Jan-2016  22.97           680.0            684.0   \n",
      "674450      A   36 months  Jun-2016  22.33           660.0            664.0   \n",
      "1070088     E   36 months  Feb-2016  43.53           660.0            664.0   \n",
      "\n",
      "         avg_cur_bal  tot_hi_cred_lim  installment  funded_amnt  \\\n",
      "1174878      23633.0         410666.0       873.42      28000.0   \n",
      "376517       20288.0         153819.0       659.81      20000.0   \n",
      "1027775       5445.0         114147.0       161.71       4800.0   \n",
      "66214          964.0          14200.0       136.08       4000.0   \n",
      "1814477       6083.0          25431.0       310.13       8400.0   \n",
      "...              ...              ...          ...          ...   \n",
      "1092918      30072.0         354155.0       814.21      35000.0   \n",
      "1119816       6094.0         120033.0       405.72      15000.0   \n",
      "1104337      14342.0         272887.0       205.04       6000.0   \n",
      "674450        4704.0         111213.0       621.12      20000.0   \n",
      "1070088       2315.0          49509.0       456.29      11875.0   \n",
      "\n",
      "         funded_amnt_inv  loan_amnt  mo_sin_old_rev_tl_op  annual_inc  \\\n",
      "1174878          28000.0    28000.0                 652.0    125000.0   \n",
      "376517           20000.0    20000.0                 309.0     85000.0   \n",
      "1027775           4800.0     4800.0                  36.0     45000.0   \n",
      "66214             4000.0     4000.0                 113.0     36000.0   \n",
      "1814477           8400.0     8400.0                  78.0    265000.0   \n",
      "...                  ...        ...                   ...         ...   \n",
      "1092918          35000.0    35000.0                 442.0    101000.0   \n",
      "1119816          15000.0    15000.0                 180.0     46585.0   \n",
      "1104337           6000.0     6000.0                  27.0    100000.0   \n",
      "674450           20000.0    20000.0                 191.0     82000.0   \n",
      "1070088          11875.0    11875.0                  45.0     33000.0   \n",
      "\n",
      "         tot_cur_bal earliest_cr_line  \n",
      "1174878     354494.0         Jun-1960  \n",
      "376517      142014.0         May-1989  \n",
      "1027775     119780.0         Jul-2008  \n",
      "66214         5782.0         Jun-2006  \n",
      "1814477      24333.0         Mar-2005  \n",
      "...              ...              ...  \n",
      "1092918     300716.0         Mar-1979  \n",
      "1119816     109700.0         Dec-1978  \n",
      "1104337     243818.0         Jun-2007  \n",
      "674450       70567.0         Jun-2000  \n",
      "1070088      25468.0         Apr-2008  \n",
      "\n",
      "[207879 rows x 20 columns]\n"
     ]
    }
   ],
   "source": [
    "# Step 1: Select only the top 20 features in X_train and X_test\n",
    "X_train_reduced = X_train[available_features]  \n",
    "X_test_reduced = X_test[available_features] \n",
    "\n",
    "print(X_train_reduced)\n",
    "print(X_test_reduced)"
   ]
  },
  {
   "cell_type": "code",
   "execution_count": 33,
   "id": "6ee0183b",
   "metadata": {
    "execution": {
     "iopub.execute_input": "2025-03-05T10:17:03.591214Z",
     "iopub.status.busy": "2025-03-05T10:17:03.590828Z",
     "iopub.status.idle": "2025-03-05T11:24:39.525293Z",
     "shell.execute_reply": "2025-03-05T11:24:39.523672Z"
    },
    "papermill": {
     "duration": 4055.994181,
     "end_time": "2025-03-05T11:24:39.570671",
     "exception": false,
     "start_time": "2025-03-05T10:17:03.576490",
     "status": "completed"
    },
    "tags": []
   },
   "outputs": [
    {
     "name": "stderr",
     "output_type": "stream",
     "text": [
      "/usr/local/lib/python3.10/dist-packages/joblib/externals/loky/process_executor.py:752: UserWarning: A worker stopped while some jobs were given to the executor. This can be caused by a too short worker timeout or by a memory leak.\n",
      "  warnings.warn(\n"
     ]
    },
    {
     "data": {
      "text/html": [
       "<style>#sk-container-id-2 {color: black;background-color: white;}#sk-container-id-2 pre{padding: 0;}#sk-container-id-2 div.sk-toggleable {background-color: white;}#sk-container-id-2 label.sk-toggleable__label {cursor: pointer;display: block;width: 100%;margin-bottom: 0;padding: 0.3em;box-sizing: border-box;text-align: center;}#sk-container-id-2 label.sk-toggleable__label-arrow:before {content: \"▸\";float: left;margin-right: 0.25em;color: #696969;}#sk-container-id-2 label.sk-toggleable__label-arrow:hover:before {color: black;}#sk-container-id-2 div.sk-estimator:hover label.sk-toggleable__label-arrow:before {color: black;}#sk-container-id-2 div.sk-toggleable__content {max-height: 0;max-width: 0;overflow: hidden;text-align: left;background-color: #f0f8ff;}#sk-container-id-2 div.sk-toggleable__content pre {margin: 0.2em;color: black;border-radius: 0.25em;background-color: #f0f8ff;}#sk-container-id-2 input.sk-toggleable__control:checked~div.sk-toggleable__content {max-height: 200px;max-width: 100%;overflow: auto;}#sk-container-id-2 input.sk-toggleable__control:checked~label.sk-toggleable__label-arrow:before {content: \"▾\";}#sk-container-id-2 div.sk-estimator input.sk-toggleable__control:checked~label.sk-toggleable__label {background-color: #d4ebff;}#sk-container-id-2 div.sk-label input.sk-toggleable__control:checked~label.sk-toggleable__label {background-color: #d4ebff;}#sk-container-id-2 input.sk-hidden--visually {border: 0;clip: rect(1px 1px 1px 1px);clip: rect(1px, 1px, 1px, 1px);height: 1px;margin: -1px;overflow: hidden;padding: 0;position: absolute;width: 1px;}#sk-container-id-2 div.sk-estimator {font-family: monospace;background-color: #f0f8ff;border: 1px dotted black;border-radius: 0.25em;box-sizing: border-box;margin-bottom: 0.5em;}#sk-container-id-2 div.sk-estimator:hover {background-color: #d4ebff;}#sk-container-id-2 div.sk-parallel-item::after {content: \"\";width: 100%;border-bottom: 1px solid gray;flex-grow: 1;}#sk-container-id-2 div.sk-label:hover label.sk-toggleable__label {background-color: #d4ebff;}#sk-container-id-2 div.sk-serial::before {content: \"\";position: absolute;border-left: 1px solid gray;box-sizing: border-box;top: 0;bottom: 0;left: 50%;z-index: 0;}#sk-container-id-2 div.sk-serial {display: flex;flex-direction: column;align-items: center;background-color: white;padding-right: 0.2em;padding-left: 0.2em;position: relative;}#sk-container-id-2 div.sk-item {position: relative;z-index: 1;}#sk-container-id-2 div.sk-parallel {display: flex;align-items: stretch;justify-content: center;background-color: white;position: relative;}#sk-container-id-2 div.sk-item::before, #sk-container-id-2 div.sk-parallel-item::before {content: \"\";position: absolute;border-left: 1px solid gray;box-sizing: border-box;top: 0;bottom: 0;left: 50%;z-index: -1;}#sk-container-id-2 div.sk-parallel-item {display: flex;flex-direction: column;z-index: 1;position: relative;background-color: white;}#sk-container-id-2 div.sk-parallel-item:first-child::after {align-self: flex-end;width: 50%;}#sk-container-id-2 div.sk-parallel-item:last-child::after {align-self: flex-start;width: 50%;}#sk-container-id-2 div.sk-parallel-item:only-child::after {width: 0;}#sk-container-id-2 div.sk-dashed-wrapped {border: 1px dashed gray;margin: 0 0.4em 0.5em 0.4em;box-sizing: border-box;padding-bottom: 0.4em;background-color: white;}#sk-container-id-2 div.sk-label label {font-family: monospace;font-weight: bold;display: inline-block;line-height: 1.2em;}#sk-container-id-2 div.sk-label-container {text-align: center;}#sk-container-id-2 div.sk-container {/* jupyter's `normalize.less` sets `[hidden] { display: none; }` but bootstrap.min.css set `[hidden] { display: none !important; }` so we also need the `!important` here to be able to override the default hidden behavior on the sphinx rendered scikit-learn.org. See: https://github.com/scikit-learn/scikit-learn/issues/21755 */display: inline-block !important;position: relative;}#sk-container-id-2 div.sk-text-repr-fallback {display: none;}</style><div id=\"sk-container-id-2\" class=\"sk-top-container\"><div class=\"sk-text-repr-fallback\"><pre>GridSearchCV(cv=5, error_score=&#x27;raise&#x27;,\n",
       "             estimator=Pipeline(steps=[(&#x27;preprocessor&#x27;,\n",
       "                                        ColumnTransformer(transformers=[(&#x27;num&#x27;,\n",
       "                                                                         SimpleImputer(strategy=&#x27;median&#x27;),\n",
       "                                                                         [&#x27;int_rate&#x27;,\n",
       "                                                                          &#x27;dti&#x27;,\n",
       "                                                                          &#x27;fico_range_low&#x27;,\n",
       "                                                                          &#x27;fico_range_high&#x27;,\n",
       "                                                                          &#x27;avg_cur_bal&#x27;,\n",
       "                                                                          &#x27;tot_hi_cred_lim&#x27;,\n",
       "                                                                          &#x27;installment&#x27;,\n",
       "                                                                          &#x27;funded_amnt&#x27;,\n",
       "                                                                          &#x27;funded_amnt_inv&#x27;,\n",
       "                                                                          &#x27;loan_amnt&#x27;,\n",
       "                                                                          &#x27;mo_sin_old_rev_tl_op&#x27;,\n",
       "                                                                          &#x27;annual_inc&#x27;,\n",
       "                                                                          &#x27;tot_cur_bal&#x27;]),\n",
       "                                                                        (&#x27;cat&#x27;,\n",
       "                                                                         TargetEncoder(),\n",
       "                                                                         [&#x27;emp_title&#x27;,\n",
       "                                                                          &#x27;debt_settlement_flag&#x27;,\n",
       "                                                                          &#x27;sub_grade&#x27;,\n",
       "                                                                          &#x27;grade&#x27;,\n",
       "                                                                          &#x27;term&#x27;,\n",
       "                                                                          &#x27;issue_d&#x27;,\n",
       "                                                                          &#x27;earliest_cr_line&#x27;])])),\n",
       "                                       (&#x27;model&#x27;,\n",
       "                                        RandomForestClassifier(max_depth=15,\n",
       "                                                               n_estimators=50,\n",
       "                                                               n_jobs=-1,\n",
       "                                                               random_state=42))]),\n",
       "             n_jobs=-1,\n",
       "             param_grid={&#x27;model__max_depth&#x27;: [10, 15],\n",
       "                         &#x27;model__min_samples_split&#x27;: [10, 20],\n",
       "                         &#x27;model__n_estimators&#x27;: [25, 50, 75]},\n",
       "             scoring=&#x27;accuracy&#x27;)</pre><b>In a Jupyter environment, please rerun this cell to show the HTML representation or trust the notebook. <br />On GitHub, the HTML representation is unable to render, please try loading this page with nbviewer.org.</b></div><div class=\"sk-container\" hidden><div class=\"sk-item sk-dashed-wrapped\"><div class=\"sk-label-container\"><div class=\"sk-label sk-toggleable\"><input class=\"sk-toggleable__control sk-hidden--visually\" id=\"sk-estimator-id-8\" type=\"checkbox\" ><label for=\"sk-estimator-id-8\" class=\"sk-toggleable__label sk-toggleable__label-arrow\">GridSearchCV</label><div class=\"sk-toggleable__content\"><pre>GridSearchCV(cv=5, error_score=&#x27;raise&#x27;,\n",
       "             estimator=Pipeline(steps=[(&#x27;preprocessor&#x27;,\n",
       "                                        ColumnTransformer(transformers=[(&#x27;num&#x27;,\n",
       "                                                                         SimpleImputer(strategy=&#x27;median&#x27;),\n",
       "                                                                         [&#x27;int_rate&#x27;,\n",
       "                                                                          &#x27;dti&#x27;,\n",
       "                                                                          &#x27;fico_range_low&#x27;,\n",
       "                                                                          &#x27;fico_range_high&#x27;,\n",
       "                                                                          &#x27;avg_cur_bal&#x27;,\n",
       "                                                                          &#x27;tot_hi_cred_lim&#x27;,\n",
       "                                                                          &#x27;installment&#x27;,\n",
       "                                                                          &#x27;funded_amnt&#x27;,\n",
       "                                                                          &#x27;funded_amnt_inv&#x27;,\n",
       "                                                                          &#x27;loan_amnt&#x27;,\n",
       "                                                                          &#x27;mo_sin_old_rev_tl_op&#x27;,\n",
       "                                                                          &#x27;annual_inc&#x27;,\n",
       "                                                                          &#x27;tot_cur_bal&#x27;]),\n",
       "                                                                        (&#x27;cat&#x27;,\n",
       "                                                                         TargetEncoder(),\n",
       "                                                                         [&#x27;emp_title&#x27;,\n",
       "                                                                          &#x27;debt_settlement_flag&#x27;,\n",
       "                                                                          &#x27;sub_grade&#x27;,\n",
       "                                                                          &#x27;grade&#x27;,\n",
       "                                                                          &#x27;term&#x27;,\n",
       "                                                                          &#x27;issue_d&#x27;,\n",
       "                                                                          &#x27;earliest_cr_line&#x27;])])),\n",
       "                                       (&#x27;model&#x27;,\n",
       "                                        RandomForestClassifier(max_depth=15,\n",
       "                                                               n_estimators=50,\n",
       "                                                               n_jobs=-1,\n",
       "                                                               random_state=42))]),\n",
       "             n_jobs=-1,\n",
       "             param_grid={&#x27;model__max_depth&#x27;: [10, 15],\n",
       "                         &#x27;model__min_samples_split&#x27;: [10, 20],\n",
       "                         &#x27;model__n_estimators&#x27;: [25, 50, 75]},\n",
       "             scoring=&#x27;accuracy&#x27;)</pre></div></div></div><div class=\"sk-parallel\"><div class=\"sk-parallel-item\"><div class=\"sk-item\"><div class=\"sk-label-container\"><div class=\"sk-label sk-toggleable\"><input class=\"sk-toggleable__control sk-hidden--visually\" id=\"sk-estimator-id-9\" type=\"checkbox\" ><label for=\"sk-estimator-id-9\" class=\"sk-toggleable__label sk-toggleable__label-arrow\">estimator: Pipeline</label><div class=\"sk-toggleable__content\"><pre>Pipeline(steps=[(&#x27;preprocessor&#x27;,\n",
       "                 ColumnTransformer(transformers=[(&#x27;num&#x27;,\n",
       "                                                  SimpleImputer(strategy=&#x27;median&#x27;),\n",
       "                                                  [&#x27;int_rate&#x27;, &#x27;dti&#x27;,\n",
       "                                                   &#x27;fico_range_low&#x27;,\n",
       "                                                   &#x27;fico_range_high&#x27;,\n",
       "                                                   &#x27;avg_cur_bal&#x27;,\n",
       "                                                   &#x27;tot_hi_cred_lim&#x27;,\n",
       "                                                   &#x27;installment&#x27;, &#x27;funded_amnt&#x27;,\n",
       "                                                   &#x27;funded_amnt_inv&#x27;,\n",
       "                                                   &#x27;loan_amnt&#x27;,\n",
       "                                                   &#x27;mo_sin_old_rev_tl_op&#x27;,\n",
       "                                                   &#x27;annual_inc&#x27;,\n",
       "                                                   &#x27;tot_cur_bal&#x27;]),\n",
       "                                                 (&#x27;cat&#x27;, TargetEncoder(),\n",
       "                                                  [&#x27;emp_title&#x27;,\n",
       "                                                   &#x27;debt_settlement_flag&#x27;,\n",
       "                                                   &#x27;sub_grade&#x27;, &#x27;grade&#x27;, &#x27;term&#x27;,\n",
       "                                                   &#x27;issue_d&#x27;,\n",
       "                                                   &#x27;earliest_cr_line&#x27;])])),\n",
       "                (&#x27;model&#x27;,\n",
       "                 RandomForestClassifier(max_depth=15, n_estimators=50,\n",
       "                                        n_jobs=-1, random_state=42))])</pre></div></div></div><div class=\"sk-serial\"><div class=\"sk-item\"><div class=\"sk-serial\"><div class=\"sk-item sk-dashed-wrapped\"><div class=\"sk-label-container\"><div class=\"sk-label sk-toggleable\"><input class=\"sk-toggleable__control sk-hidden--visually\" id=\"sk-estimator-id-10\" type=\"checkbox\" ><label for=\"sk-estimator-id-10\" class=\"sk-toggleable__label sk-toggleable__label-arrow\">preprocessor: ColumnTransformer</label><div class=\"sk-toggleable__content\"><pre>ColumnTransformer(transformers=[(&#x27;num&#x27;, SimpleImputer(strategy=&#x27;median&#x27;),\n",
       "                                 [&#x27;int_rate&#x27;, &#x27;dti&#x27;, &#x27;fico_range_low&#x27;,\n",
       "                                  &#x27;fico_range_high&#x27;, &#x27;avg_cur_bal&#x27;,\n",
       "                                  &#x27;tot_hi_cred_lim&#x27;, &#x27;installment&#x27;,\n",
       "                                  &#x27;funded_amnt&#x27;, &#x27;funded_amnt_inv&#x27;, &#x27;loan_amnt&#x27;,\n",
       "                                  &#x27;mo_sin_old_rev_tl_op&#x27;, &#x27;annual_inc&#x27;,\n",
       "                                  &#x27;tot_cur_bal&#x27;]),\n",
       "                                (&#x27;cat&#x27;, TargetEncoder(),\n",
       "                                 [&#x27;emp_title&#x27;, &#x27;debt_settlement_flag&#x27;,\n",
       "                                  &#x27;sub_grade&#x27;, &#x27;grade&#x27;, &#x27;term&#x27;, &#x27;issue_d&#x27;,\n",
       "                                  &#x27;earliest_cr_line&#x27;])])</pre></div></div></div><div class=\"sk-parallel\"><div class=\"sk-parallel-item\"><div class=\"sk-item\"><div class=\"sk-label-container\"><div class=\"sk-label sk-toggleable\"><input class=\"sk-toggleable__control sk-hidden--visually\" id=\"sk-estimator-id-11\" type=\"checkbox\" ><label for=\"sk-estimator-id-11\" class=\"sk-toggleable__label sk-toggleable__label-arrow\">num</label><div class=\"sk-toggleable__content\"><pre>[&#x27;int_rate&#x27;, &#x27;dti&#x27;, &#x27;fico_range_low&#x27;, &#x27;fico_range_high&#x27;, &#x27;avg_cur_bal&#x27;, &#x27;tot_hi_cred_lim&#x27;, &#x27;installment&#x27;, &#x27;funded_amnt&#x27;, &#x27;funded_amnt_inv&#x27;, &#x27;loan_amnt&#x27;, &#x27;mo_sin_old_rev_tl_op&#x27;, &#x27;annual_inc&#x27;, &#x27;tot_cur_bal&#x27;]</pre></div></div></div><div class=\"sk-serial\"><div class=\"sk-item\"><div class=\"sk-estimator sk-toggleable\"><input class=\"sk-toggleable__control sk-hidden--visually\" id=\"sk-estimator-id-12\" type=\"checkbox\" ><label for=\"sk-estimator-id-12\" class=\"sk-toggleable__label sk-toggleable__label-arrow\">SimpleImputer</label><div class=\"sk-toggleable__content\"><pre>SimpleImputer(strategy=&#x27;median&#x27;)</pre></div></div></div></div></div></div><div class=\"sk-parallel-item\"><div class=\"sk-item\"><div class=\"sk-label-container\"><div class=\"sk-label sk-toggleable\"><input class=\"sk-toggleable__control sk-hidden--visually\" id=\"sk-estimator-id-13\" type=\"checkbox\" ><label for=\"sk-estimator-id-13\" class=\"sk-toggleable__label sk-toggleable__label-arrow\">cat</label><div class=\"sk-toggleable__content\"><pre>[&#x27;emp_title&#x27;, &#x27;debt_settlement_flag&#x27;, &#x27;sub_grade&#x27;, &#x27;grade&#x27;, &#x27;term&#x27;, &#x27;issue_d&#x27;, &#x27;earliest_cr_line&#x27;]</pre></div></div></div><div class=\"sk-serial\"><div class=\"sk-item\"><div class=\"sk-estimator sk-toggleable\"><input class=\"sk-toggleable__control sk-hidden--visually\" id=\"sk-estimator-id-14\" type=\"checkbox\" ><label for=\"sk-estimator-id-14\" class=\"sk-toggleable__label sk-toggleable__label-arrow\">TargetEncoder</label><div class=\"sk-toggleable__content\"><pre>TargetEncoder()</pre></div></div></div></div></div></div></div></div><div class=\"sk-item\"><div class=\"sk-estimator sk-toggleable\"><input class=\"sk-toggleable__control sk-hidden--visually\" id=\"sk-estimator-id-15\" type=\"checkbox\" ><label for=\"sk-estimator-id-15\" class=\"sk-toggleable__label sk-toggleable__label-arrow\">RandomForestClassifier</label><div class=\"sk-toggleable__content\"><pre>RandomForestClassifier(max_depth=15, n_estimators=50, n_jobs=-1,\n",
       "                       random_state=42)</pre></div></div></div></div></div></div></div></div></div></div></div></div>"
      ],
      "text/plain": [
       "GridSearchCV(cv=5, error_score='raise',\n",
       "             estimator=Pipeline(steps=[('preprocessor',\n",
       "                                        ColumnTransformer(transformers=[('num',\n",
       "                                                                         SimpleImputer(strategy='median'),\n",
       "                                                                         ['int_rate',\n",
       "                                                                          'dti',\n",
       "                                                                          'fico_range_low',\n",
       "                                                                          'fico_range_high',\n",
       "                                                                          'avg_cur_bal',\n",
       "                                                                          'tot_hi_cred_lim',\n",
       "                                                                          'installment',\n",
       "                                                                          'funded_amnt',\n",
       "                                                                          'funded_amnt_inv',\n",
       "                                                                          'loan_amnt',\n",
       "                                                                          'mo_sin_old_rev_tl_op',\n",
       "                                                                          'annual_inc',\n",
       "                                                                          'tot_cur_bal']),\n",
       "                                                                        ('cat',\n",
       "                                                                         TargetEncoder(),\n",
       "                                                                         ['emp_title',\n",
       "                                                                          'debt_settlement_flag',\n",
       "                                                                          'sub_grade',\n",
       "                                                                          'grade',\n",
       "                                                                          'term',\n",
       "                                                                          'issue_d',\n",
       "                                                                          'earliest_cr_line'])])),\n",
       "                                       ('model',\n",
       "                                        RandomForestClassifier(max_depth=15,\n",
       "                                                               n_estimators=50,\n",
       "                                                               n_jobs=-1,\n",
       "                                                               random_state=42))]),\n",
       "             n_jobs=-1,\n",
       "             param_grid={'model__max_depth': [10, 15],\n",
       "                         'model__min_samples_split': [10, 20],\n",
       "                         'model__n_estimators': [25, 50, 75]},\n",
       "             scoring='accuracy')"
      ]
     },
     "execution_count": 33,
     "metadata": {},
     "output_type": "execute_result"
    }
   ],
   "source": [
    "\n",
    "\n",
    "# Step 1: Identify numerical and categorical features\n",
    "categorical_features = [col for col in available_features if X_train[col].dtype == 'object']\n",
    "numerical_features = [col for col in available_features if col not in categorical_features]\n",
    "\n",
    "# Step 2: Define preprocessors\n",
    "num_transformer = SimpleImputer(strategy=\"median\")  # Replace missing values with median\n",
    "cat_transformer = TargetEncoder()  # Encode categorical variables\n",
    "\n",
    "# Step 3: Create ColumnTransformer\n",
    "preprocessor = ColumnTransformer(transformers=[\n",
    "    ('num', num_transformer, numerical_features),\n",
    "    ('cat', cat_transformer, categorical_features)\n",
    "])\n",
    "\n",
    "# Step 4: Define pipeline\n",
    "my_pipeline = Pipeline(steps=[\n",
    "    ('preprocessor', preprocessor),\n",
    "    ('model', RandomForestClassifier(n_estimators=50, max_depth=15, n_jobs=-1, random_state=42))\n",
    "])\n",
    "\n",
    "# Step 5: Hyperparameter tuning with GridSearchCV\n",
    "param_grid = {\n",
    "    'model__n_estimators': [25, 50, 75],  # 🔹 Reduce to 25-75 for better memory handling\n",
    "    'model__max_depth': [10, 15],  \n",
    "    'model__min_samples_split': [10, 20]  \n",
    "}\n",
    "\n",
    "grid_search = GridSearchCV(my_pipeline, param_grid, cv=5, scoring='accuracy', n_jobs=-1, error_score='raise')\n",
    "grid_search.fit(X_train_reduced, y_train)\n",
    "\n"
   ]
  },
  {
   "cell_type": "code",
   "execution_count": 34,
   "id": "ad62e792",
   "metadata": {
    "execution": {
     "iopub.execute_input": "2025-03-05T11:24:39.603281Z",
     "iopub.status.busy": "2025-03-05T11:24:39.602830Z",
     "iopub.status.idle": "2025-03-05T11:24:44.350653Z",
     "shell.execute_reply": "2025-03-05T11:24:44.349308Z"
    },
    "papermill": {
     "duration": 4.766622,
     "end_time": "2025-03-05T11:24:44.352509",
     "exception": false,
     "start_time": "2025-03-05T11:24:39.585887",
     "status": "completed"
    },
    "tags": []
   },
   "outputs": [
    {
     "name": "stdout",
     "output_type": "stream",
     "text": [
      "Validation Accuracy: 0.8245181090923085\n",
      "Validation AUC-ROC: 0.7377619506466744\n",
      "Classification Report:\n",
      "               precision    recall  f1-score   support\n",
      "\n",
      "           0       0.83      0.98      0.90    167153\n",
      "           1       0.67      0.20      0.31     40726\n",
      "\n",
      "    accuracy                           0.82    207879\n",
      "   macro avg       0.75      0.59      0.61    207879\n",
      "weighted avg       0.80      0.82      0.78    207879\n",
      "\n"
     ]
    }
   ],
   "source": [
    "from sklearn.metrics import accuracy_score, roc_auc_score, classification_report\n",
    "\n",
    "# Step 6: Evaluate best model\n",
    "best_pipeline = grid_search.best_estimator_\n",
    "# Predictions on Validation Set\n",
    "y_valid_pred = best_pipeline.predict(X_valid)\n",
    "\n",
    "# Model Evaluation\n",
    "print(\"Validation Accuracy:\", accuracy_score(y_valid, y_valid_pred))\n",
    "print(\"Validation AUC-ROC:\", roc_auc_score(y_valid, best_pipeline.predict_proba(X_valid)[:, 1]))\n",
    "print(\"Classification Report:\\n\", classification_report(y_valid, y_valid_pred))\n"
   ]
  },
  {
   "cell_type": "code",
   "execution_count": 35,
   "id": "b94ddf6e",
   "metadata": {
    "execution": {
     "iopub.execute_input": "2025-03-05T11:24:44.380652Z",
     "iopub.status.busy": "2025-03-05T11:24:44.380283Z",
     "iopub.status.idle": "2025-03-05T11:24:46.364257Z",
     "shell.execute_reply": "2025-03-05T11:24:46.363145Z"
    },
    "papermill": {
     "duration": 1.999974,
     "end_time": "2025-03-05T11:24:46.365922",
     "exception": false,
     "start_time": "2025-03-05T11:24:44.365948",
     "status": "completed"
    },
    "tags": []
   },
   "outputs": [
    {
     "name": "stdout",
     "output_type": "stream",
     "text": [
      "Best Parameters: {'model__max_depth': 15, 'model__min_samples_split': 20, 'model__n_estimators': 75}\n",
      "Test Accuracy: 0.8213\n"
     ]
    }
   ],
   "source": [
    "\n",
    "\n",
    "test_accuracy = best_pipeline.score(X_test_reduced, y_test)\n",
    "\n",
    "\n",
    "print(f\"Best Parameters: {grid_search.best_params_}\")\n",
    "print(f\"Test Accuracy: {test_accuracy:.4f}\")"
   ]
  },
  {
   "cell_type": "code",
   "execution_count": 36,
   "id": "f84be436",
   "metadata": {
    "execution": {
     "iopub.execute_input": "2025-03-05T11:24:46.395196Z",
     "iopub.status.busy": "2025-03-05T11:24:46.394805Z",
     "iopub.status.idle": "2025-03-05T11:24:46.845161Z",
     "shell.execute_reply": "2025-03-05T11:24:46.843467Z"
    },
    "papermill": {
     "duration": 0.466652,
     "end_time": "2025-03-05T11:24:46.846946",
     "exception": false,
     "start_time": "2025-03-05T11:24:46.380294",
     "status": "completed"
    },
    "tags": []
   },
   "outputs": [
    {
     "name": "stdout",
     "output_type": "stream",
     "text": [
      "Model saved successfully!\n"
     ]
    }
   ],
   "source": [
    "import joblib\n",
    "\n",
    "# Save the model\n",
    "joblib.dump(best_pipeline,'/kaggle/working/churn_model.pkl')\n",
    "print(\"Model saved successfully!\")\n"
   ]
  },
  {
   "cell_type": "code",
   "execution_count": 37,
   "id": "d2513bab",
   "metadata": {
    "execution": {
     "iopub.execute_input": "2025-03-05T11:24:46.875035Z",
     "iopub.status.busy": "2025-03-05T11:24:46.874657Z",
     "iopub.status.idle": "2025-03-05T11:24:46.880818Z",
     "shell.execute_reply": "2025-03-05T11:24:46.878946Z"
    },
    "papermill": {
     "duration": 0.022323,
     "end_time": "2025-03-05T11:24:46.882820",
     "exception": false,
     "start_time": "2025-03-05T11:24:46.860497",
     "status": "completed"
    },
    "tags": []
   },
   "outputs": [
    {
     "name": "stdout",
     "output_type": "stream",
     "text": [
      "['churn_model.pkl', '__notebook__.ipynb', 'X_train_top_20_features.csv']\n"
     ]
    }
   ],
   "source": [
    "import os\n",
    "print(os.listdir('/kaggle/working/'))  # Should show 'churn_model.pkl'\n"
   ]
  },
  {
   "cell_type": "code",
   "execution_count": 38,
   "id": "44e1a781",
   "metadata": {
    "execution": {
     "iopub.execute_input": "2025-03-05T11:24:46.912672Z",
     "iopub.status.busy": "2025-03-05T11:24:46.912309Z",
     "iopub.status.idle": "2025-03-05T11:24:46.917533Z",
     "shell.execute_reply": "2025-03-05T11:24:46.916320Z"
    },
    "papermill": {
     "duration": 0.022678,
     "end_time": "2025-03-05T11:24:46.919809",
     "exception": false,
     "start_time": "2025-03-05T11:24:46.897131",
     "status": "completed"
    },
    "tags": []
   },
   "outputs": [
    {
     "name": "stdout",
     "output_type": "stream",
     "text": [
      "['churn_model.pkl', '__notebook__.ipynb', 'X_train_top_20_features.csv']\n"
     ]
    }
   ],
   "source": [
    "import os\n",
    "\n",
    "# List files in the current directory\n",
    "print(os.listdir())\n"
   ]
  },
  {
   "cell_type": "code",
   "execution_count": 39,
   "id": "93d220eb",
   "metadata": {
    "execution": {
     "iopub.execute_input": "2025-03-05T11:24:46.951126Z",
     "iopub.status.busy": "2025-03-05T11:24:46.950705Z",
     "iopub.status.idle": "2025-03-05T11:24:47.439004Z",
     "shell.execute_reply": "2025-03-05T11:24:47.437771Z"
    },
    "papermill": {
     "duration": 0.505576,
     "end_time": "2025-03-05T11:24:47.440899",
     "exception": false,
     "start_time": "2025-03-05T11:24:46.935323",
     "status": "completed"
    },
    "tags": []
   },
   "outputs": [
    {
     "name": "stdout",
     "output_type": "stream",
     "text": [
      "✅ Model loaded successfully!\n"
     ]
    }
   ],
   "source": [
    "import joblib\n",
    "\n",
    "# Load the model\n",
    "try:\n",
    "    loaded_model = joblib.load(\"churn_model.pkl\")\n",
    "    print(\"✅ Model loaded successfully!\")\n",
    "except Exception as e:\n",
    "    print(\"❌ Error loading model:\", e)\n"
   ]
  }
 ],
 "metadata": {
  "kaggle": {
   "accelerator": "none",
   "dataSources": [
    {
     "datasetId": 515754,
     "sourceId": 950283,
     "sourceType": "datasetVersion"
    }
   ],
   "dockerImageVersionId": 30886,
   "isGpuEnabled": false,
   "isInternetEnabled": false,
   "language": "python",
   "sourceType": "notebook"
  },
  "kernelspec": {
   "display_name": "Python 3",
   "language": "python",
   "name": "python3"
  },
  "language_info": {
   "codemirror_mode": {
    "name": "ipython",
    "version": 3
   },
   "file_extension": ".py",
   "mimetype": "text/x-python",
   "name": "python",
   "nbconvert_exporter": "python",
   "pygments_lexer": "ipython3",
   "version": "3.10.12"
  },
  "papermill": {
   "default_parameters": {},
   "duration": 4362.930464,
   "end_time": "2025-03-05T11:24:50.590009",
   "environment_variables": {},
   "exception": null,
   "input_path": "__notebook__.ipynb",
   "output_path": "__notebook__.ipynb",
   "parameters": {},
   "start_time": "2025-03-05T10:12:07.659545",
   "version": "2.6.0"
  }
 },
 "nbformat": 4,
 "nbformat_minor": 5
}
